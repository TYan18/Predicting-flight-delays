{
 "cells": [
  {
   "cell_type": "markdown",
   "metadata": {},
   "source": [
    "## Using XGBRegressor() on data scaled by MinMaxScaler(), instead of StandardScaler()"
   ]
  },
  {
   "cell_type": "markdown",
   "metadata": {},
   "source": [
    "## 10000 rows of data"
   ]
  },
  {
   "cell_type": "code",
   "execution_count": 1,
   "metadata": {},
   "outputs": [],
   "source": [
    "import pandas as pd\n",
    "import numpy as np"
   ]
  },
  {
   "cell_type": "code",
   "execution_count": 10,
   "metadata": {},
   "outputs": [],
   "source": [
    "X= pd.read_csv('X_test.csv')\n",
    "ydf= pd.read_csv('y_test.csv')"
   ]
  },
  {
   "cell_type": "code",
   "execution_count": 13,
   "metadata": {},
   "outputs": [],
   "source": [
    "y=ydf['yFT']\n",
    "#y=ydf['y_sign']"
   ]
  },
  {
   "cell_type": "code",
   "execution_count": 14,
   "metadata": {},
   "outputs": [],
   "source": [
    "from sklearn.model_selection import train_test_split\n",
    "X_train,X_test,y_train,y_test=train_test_split(X,y,test_size=0.3,random_state=1)"
   ]
  },
  {
   "cell_type": "code",
   "execution_count": 15,
   "metadata": {},
   "outputs": [],
   "source": [
    "from xgboost import XGBRegressor\n",
    "xgboost = XGBRegressor()\n",
    "xgboost.fit(X_train, y_train)\n",
    "y_pred= xgboost.predict(X_test)"
   ]
  },
  {
   "cell_type": "code",
   "execution_count": 16,
   "metadata": {},
   "outputs": [
    {
     "name": "stdout",
     "output_type": "stream",
     "text": [
      "Training score:  0.45011063507880916\n",
      "RMSE:  1.0860938784491099\n",
      "R-squared score:  -0.060614519154891244\n"
     ]
    }
   ],
   "source": [
    "from sklearn.metrics import r2_score, mean_squared_error\n",
    "\n",
    "print('Training score: ', xgboost.score(X_train, y_train))\n",
    "print('RMSE: ', mean_squared_error(y_test, y_pred))\n",
    "print('R-squared score: ', r2_score(y_test, y_pred))"
   ]
  },
  {
   "cell_type": "code",
   "execution_count": 7,
   "metadata": {},
   "outputs": [],
   "source": [
    "X= pd.read_csv('../Data Prep Files/X100k.csv', index_col=0, compression='gzip')\n",
    "ydf= pd.read_csv('../Data Prep Files/y100k.csv', index_col=0, compression='gzip')\n",
    "\n",
    "y=ydf['yFT']\n",
    "\n",
    "X_train,X_test,y_train,y_test=train_test_split(X,y,test_size=0.3,random_state=1)\n",
    "\n",
    "xgboost = XGBRegressor()\n",
    "xgboost.fit(X_train, y_train)\n",
    "y_pred= xgboost.predict(X_test)\n",
    "\n",
    "# print('RMSE: ', mean_squared_error(y_test, y_pred))\n",
    "# print('R-squared score: ', r2_score(y_test, y_pred))"
   ]
  },
  {
   "cell_type": "code",
   "execution_count": 8,
   "metadata": {},
   "outputs": [
    {
     "name": "stdout",
     "output_type": "stream",
     "text": [
      "Training R-Square 0.2624223385981094\n",
      "RMSE:  1.0638192428304154\n",
      "R-squared score:  -0.051190588169772955\n"
     ]
    }
   ],
   "source": [
    "print('Training R-Square', xgboost.score(X_train, y_train))\n",
    "print('RMSE: ', mean_squared_error(y_test, y_pred))\n",
    "print('R-squared score: ', r2_score(y_test, y_pred))"
   ]
  },
  {
   "cell_type": "markdown",
   "metadata": {},
   "source": [
    "## 100000 rows of data"
   ]
  },
  {
   "cell_type": "code",
   "execution_count": 18,
   "metadata": {},
   "outputs": [],
   "source": [
    "X= pd.read_csv('X_test100000.csv')\n",
    "ydf= pd.read_csv('y_test100000.csv')\n",
    "\n",
    "y=ydf['yFT']\n",
    "\n",
    "X_train,X_test,y_train,y_test=train_test_split(X,y,test_size=0.3,random_state=1)\n",
    "\n",
    "xgboost = XGBRegressor()\n",
    "xgboost.fit(X_train, y_train)\n",
    "y_pred= xgboost.predict(X_test)"
   ]
  },
  {
   "cell_type": "code",
   "execution_count": 19,
   "metadata": {},
   "outputs": [
    {
     "name": "stdout",
     "output_type": "stream",
     "text": [
      "Training R-Square 0.16326952350050172\n",
      "RMSE:  0.9684616081650654\n",
      "R-squared score:  0.0340012678853745\n"
     ]
    }
   ],
   "source": [
    "print('Training R-Square', xgboost.score(X_train, y_train))\n",
    "print('RMSE: ', mean_squared_error(y_test, y_pred))\n",
    "print('R-squared score: ', r2_score(y_test, y_pred))"
   ]
  }
 ],
 "metadata": {
  "kernelspec": {
   "display_name": "Python 3",
   "language": "python",
   "name": "python3"
  },
  "language_info": {
   "codemirror_mode": {
    "name": "ipython",
    "version": 3
   },
   "file_extension": ".py",
   "mimetype": "text/x-python",
   "name": "python",
   "nbconvert_exporter": "python",
   "pygments_lexer": "ipython3",
   "version": "3.7.6"
  }
 },
 "nbformat": 4,
 "nbformat_minor": 4
}
