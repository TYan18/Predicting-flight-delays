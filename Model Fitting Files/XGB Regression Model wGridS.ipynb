{
 "cells": [
  {
   "cell_type": "code",
   "execution_count": 1,
   "metadata": {},
   "outputs": [],
   "source": [
    "import pandas as pd\n",
    "import numpy as np"
   ]
  },
  {
   "cell_type": "code",
   "execution_count": 2,
   "metadata": {},
   "outputs": [
    {
     "data": {
      "text/html": [
       "<div>\n",
       "<style scoped>\n",
       "    .dataframe tbody tr th:only-of-type {\n",
       "        vertical-align: middle;\n",
       "    }\n",
       "\n",
       "    .dataframe tbody tr th {\n",
       "        vertical-align: top;\n",
       "    }\n",
       "\n",
       "    .dataframe thead th {\n",
       "        text-align: right;\n",
       "    }\n",
       "</style>\n",
       "<table border=\"1\" class=\"dataframe\">\n",
       "  <thead>\n",
       "    <tr style=\"text-align: right;\">\n",
       "      <th></th>\n",
       "      <th>crs_dep_timeFT</th>\n",
       "      <th>crs_arr_timeFT</th>\n",
       "      <th>crs_elapsed_timeFT</th>\n",
       "      <th>distanceFT</th>\n",
       "      <th>origin</th>\n",
       "      <th>dest</th>\n",
       "      <th>carrierAvgDelay</th>\n",
       "      <th>MonthAvgDelay</th>\n",
       "    </tr>\n",
       "  </thead>\n",
       "  <tbody>\n",
       "    <tr>\n",
       "      <th>0</th>\n",
       "      <td>0.347826</td>\n",
       "      <td>0.375000</td>\n",
       "      <td>0.039113</td>\n",
       "      <td>0.070300</td>\n",
       "      <td>2.066359</td>\n",
       "      <td>2.973759</td>\n",
       "      <td>3.549976</td>\n",
       "      <td>8.977515</td>\n",
       "    </tr>\n",
       "    <tr>\n",
       "      <th>1</th>\n",
       "      <td>0.391304</td>\n",
       "      <td>0.625000</td>\n",
       "      <td>0.110169</td>\n",
       "      <td>0.233017</td>\n",
       "      <td>2.019957</td>\n",
       "      <td>4.324298</td>\n",
       "      <td>7.155529</td>\n",
       "      <td>4.159131</td>\n",
       "    </tr>\n",
       "    <tr>\n",
       "      <th>2</th>\n",
       "      <td>0.695652</td>\n",
       "      <td>0.708333</td>\n",
       "      <td>0.039765</td>\n",
       "      <td>0.042654</td>\n",
       "      <td>5.520500</td>\n",
       "      <td>7.378240</td>\n",
       "      <td>7.155529</td>\n",
       "      <td>2.993607</td>\n",
       "    </tr>\n",
       "    <tr>\n",
       "      <th>3</th>\n",
       "      <td>0.565217</td>\n",
       "      <td>0.625000</td>\n",
       "      <td>0.054759</td>\n",
       "      <td>0.076619</td>\n",
       "      <td>4.436164</td>\n",
       "      <td>11.047437</td>\n",
       "      <td>6.192538</td>\n",
       "      <td>2.853585</td>\n",
       "    </tr>\n",
       "    <tr>\n",
       "      <th>4</th>\n",
       "      <td>0.739130</td>\n",
       "      <td>0.791667</td>\n",
       "      <td>0.072360</td>\n",
       "      <td>0.118088</td>\n",
       "      <td>5.245363</td>\n",
       "      <td>6.338766</td>\n",
       "      <td>11.294149</td>\n",
       "      <td>6.511144</td>\n",
       "    </tr>\n",
       "    <tr>\n",
       "      <th>...</th>\n",
       "      <td>...</td>\n",
       "      <td>...</td>\n",
       "      <td>...</td>\n",
       "      <td>...</td>\n",
       "      <td>...</td>\n",
       "      <td>...</td>\n",
       "      <td>...</td>\n",
       "      <td>...</td>\n",
       "    </tr>\n",
       "    <tr>\n",
       "      <th>89072</th>\n",
       "      <td>0.652174</td>\n",
       "      <td>0.666667</td>\n",
       "      <td>0.039113</td>\n",
       "      <td>0.064179</td>\n",
       "      <td>2.779153</td>\n",
       "      <td>6.359470</td>\n",
       "      <td>3.549976</td>\n",
       "      <td>1.708452</td>\n",
       "    </tr>\n",
       "    <tr>\n",
       "      <th>89073</th>\n",
       "      <td>0.913043</td>\n",
       "      <td>0.000000</td>\n",
       "      <td>0.066493</td>\n",
       "      <td>0.135861</td>\n",
       "      <td>10.971327</td>\n",
       "      <td>18.860065</td>\n",
       "      <td>7.031039</td>\n",
       "      <td>2.853585</td>\n",
       "    </tr>\n",
       "    <tr>\n",
       "      <th>89074</th>\n",
       "      <td>0.782609</td>\n",
       "      <td>0.875000</td>\n",
       "      <td>0.048892</td>\n",
       "      <td>0.100908</td>\n",
       "      <td>5.258827</td>\n",
       "      <td>6.667580</td>\n",
       "      <td>9.682003</td>\n",
       "      <td>3.958788</td>\n",
       "    </tr>\n",
       "    <tr>\n",
       "      <th>89075</th>\n",
       "      <td>0.739130</td>\n",
       "      <td>0.791667</td>\n",
       "      <td>0.041069</td>\n",
       "      <td>0.038507</td>\n",
       "      <td>7.065939</td>\n",
       "      <td>1.995582</td>\n",
       "      <td>7.457289</td>\n",
       "      <td>10.414444</td>\n",
       "    </tr>\n",
       "    <tr>\n",
       "      <th>89076</th>\n",
       "      <td>0.695652</td>\n",
       "      <td>0.750000</td>\n",
       "      <td>0.056063</td>\n",
       "      <td>0.116509</td>\n",
       "      <td>4.065164</td>\n",
       "      <td>2.214751</td>\n",
       "      <td>6.209128</td>\n",
       "      <td>8.977515</td>\n",
       "    </tr>\n",
       "  </tbody>\n",
       "</table>\n",
       "<p>89077 rows × 8 columns</p>\n",
       "</div>"
      ],
      "text/plain": [
       "       crs_dep_timeFT  crs_arr_timeFT  crs_elapsed_timeFT  distanceFT  \\\n",
       "0            0.347826        0.375000            0.039113    0.070300   \n",
       "1            0.391304        0.625000            0.110169    0.233017   \n",
       "2            0.695652        0.708333            0.039765    0.042654   \n",
       "3            0.565217        0.625000            0.054759    0.076619   \n",
       "4            0.739130        0.791667            0.072360    0.118088   \n",
       "...               ...             ...                 ...         ...   \n",
       "89072        0.652174        0.666667            0.039113    0.064179   \n",
       "89073        0.913043        0.000000            0.066493    0.135861   \n",
       "89074        0.782609        0.875000            0.048892    0.100908   \n",
       "89075        0.739130        0.791667            0.041069    0.038507   \n",
       "89076        0.695652        0.750000            0.056063    0.116509   \n",
       "\n",
       "          origin       dest  carrierAvgDelay  MonthAvgDelay  \n",
       "0       2.066359   2.973759         3.549976       8.977515  \n",
       "1       2.019957   4.324298         7.155529       4.159131  \n",
       "2       5.520500   7.378240         7.155529       2.993607  \n",
       "3       4.436164  11.047437         6.192538       2.853585  \n",
       "4       5.245363   6.338766        11.294149       6.511144  \n",
       "...          ...        ...              ...            ...  \n",
       "89072   2.779153   6.359470         3.549976       1.708452  \n",
       "89073  10.971327  18.860065         7.031039       2.853585  \n",
       "89074   5.258827   6.667580         9.682003       3.958788  \n",
       "89075   7.065939   1.995582         7.457289      10.414444  \n",
       "89076   4.065164   2.214751         6.209128       8.977515  \n",
       "\n",
       "[89077 rows x 8 columns]"
      ]
     },
     "execution_count": 2,
     "metadata": {},
     "output_type": "execute_result"
    }
   ],
   "source": [
    "X= pd.read_pickle('df2')\n",
    "X"
   ]
  },
  {
   "cell_type": "code",
   "execution_count": 3,
   "metadata": {},
   "outputs": [
    {
     "data": {
      "text/html": [
       "<div>\n",
       "<style scoped>\n",
       "    .dataframe tbody tr th:only-of-type {\n",
       "        vertical-align: middle;\n",
       "    }\n",
       "\n",
       "    .dataframe tbody tr th {\n",
       "        vertical-align: top;\n",
       "    }\n",
       "\n",
       "    .dataframe thead th {\n",
       "        text-align: right;\n",
       "    }\n",
       "</style>\n",
       "<table border=\"1\" class=\"dataframe\">\n",
       "  <thead>\n",
       "    <tr style=\"text-align: right;\">\n",
       "      <th></th>\n",
       "      <th>yFT</th>\n",
       "      <th>y_sign</th>\n",
       "    </tr>\n",
       "  </thead>\n",
       "  <tbody>\n",
       "    <tr>\n",
       "      <th>0</th>\n",
       "      <td>0.318681</td>\n",
       "      <td>NaN</td>\n",
       "    </tr>\n",
       "    <tr>\n",
       "      <th>1</th>\n",
       "      <td>0.527473</td>\n",
       "      <td>0.0</td>\n",
       "    </tr>\n",
       "    <tr>\n",
       "      <th>2</th>\n",
       "      <td>0.340659</td>\n",
       "      <td>0.0</td>\n",
       "    </tr>\n",
       "    <tr>\n",
       "      <th>3</th>\n",
       "      <td>0.373626</td>\n",
       "      <td>0.0</td>\n",
       "    </tr>\n",
       "    <tr>\n",
       "      <th>4</th>\n",
       "      <td>0.439560</td>\n",
       "      <td>0.0</td>\n",
       "    </tr>\n",
       "    <tr>\n",
       "      <th>...</th>\n",
       "      <td>...</td>\n",
       "      <td>...</td>\n",
       "    </tr>\n",
       "    <tr>\n",
       "      <th>89072</th>\n",
       "      <td>0.472527</td>\n",
       "      <td>0.0</td>\n",
       "    </tr>\n",
       "    <tr>\n",
       "      <th>89073</th>\n",
       "      <td>0.439560</td>\n",
       "      <td>1.0</td>\n",
       "    </tr>\n",
       "    <tr>\n",
       "      <th>89074</th>\n",
       "      <td>0.340659</td>\n",
       "      <td>1.0</td>\n",
       "    </tr>\n",
       "    <tr>\n",
       "      <th>89075</th>\n",
       "      <td>0.406593</td>\n",
       "      <td>0.0</td>\n",
       "    </tr>\n",
       "    <tr>\n",
       "      <th>89076</th>\n",
       "      <td>0.527473</td>\n",
       "      <td>1.0</td>\n",
       "    </tr>\n",
       "  </tbody>\n",
       "</table>\n",
       "<p>89077 rows × 2 columns</p>\n",
       "</div>"
      ],
      "text/plain": [
       "            yFT  y_sign\n",
       "0      0.318681     NaN\n",
       "1      0.527473     0.0\n",
       "2      0.340659     0.0\n",
       "3      0.373626     0.0\n",
       "4      0.439560     0.0\n",
       "...         ...     ...\n",
       "89072  0.472527     0.0\n",
       "89073  0.439560     1.0\n",
       "89074  0.340659     1.0\n",
       "89075  0.406593     0.0\n",
       "89076  0.527473     1.0\n",
       "\n",
       "[89077 rows x 2 columns]"
      ]
     },
     "execution_count": 3,
     "metadata": {},
     "output_type": "execute_result"
    }
   ],
   "source": [
    "#X= pd.read_csv('../Data Prep Files/X.csv', index_col=0)\n",
    "ydf= pd.read_csv('../Data Prep Files/y_test100000noDum.csv', compression='gzip')\n",
    "ydf"
   ]
  },
  {
   "cell_type": "code",
   "execution_count": 4,
   "metadata": {},
   "outputs": [
    {
     "data": {
      "text/plain": [
       "0        0.318681\n",
       "1        0.527473\n",
       "2        0.340659\n",
       "3        0.373626\n",
       "4        0.439560\n",
       "           ...   \n",
       "89072    0.472527\n",
       "89073    0.439560\n",
       "89074    0.340659\n",
       "89075    0.406593\n",
       "89076    0.527473\n",
       "Name: yFT, Length: 89077, dtype: float64"
      ]
     },
     "execution_count": 4,
     "metadata": {},
     "output_type": "execute_result"
    }
   ],
   "source": [
    "y=ydf['yFT']\n",
    "#y=ydf['y_sign']\n",
    "y"
   ]
  },
  {
   "cell_type": "code",
   "execution_count": 5,
   "metadata": {},
   "outputs": [],
   "source": [
    "#y.describe()"
   ]
  },
  {
   "cell_type": "code",
   "execution_count": 6,
   "metadata": {},
   "outputs": [],
   "source": [
    "from sklearn.model_selection import train_test_split\n",
    "X_train,X_test,y_train,y_test=train_test_split(X,y,test_size=0.2,random_state=1)"
   ]
  },
  {
   "cell_type": "code",
   "execution_count": 7,
   "metadata": {},
   "outputs": [],
   "source": [
    "from xgboost import XGBRegressor\n",
    "xgboost = XGBRegressor(n_estimators=100,learning_rate=0.1,reg_alpha=8)\n",
    "xgboost.fit(X_train, y_train)\n",
    "y_pred= xgboost.predict(X_test)"
   ]
  },
  {
   "cell_type": "code",
   "execution_count": 8,
   "metadata": {},
   "outputs": [
    {
     "name": "stdout",
     "output_type": "stream",
     "text": [
      "Training R-Square 0.06967824844700765\n",
      "RMSE:  0.02712483615045412\n",
      "R-squared score:  0.041358373357538\n"
     ]
    }
   ],
   "source": [
    "from sklearn.metrics import r2_score, mean_squared_error\n",
    "\n",
    "print('Training R-Square', xgboost.score(X_train, y_train))\n",
    "print('RMSE: ', mean_squared_error(y_test, y_pred))\n",
    "print('R-squared score: ', r2_score(y_test, y_pred))"
   ]
  },
  {
   "cell_type": "code",
   "execution_count": 14,
   "metadata": {},
   "outputs": [],
   "source": [
    "parameters = {\n",
    "    'n_estimators':[10,50,100,500,100], \n",
    "    'learning_rate':[0.01,0.05,0.1,0.5,1,5],\n",
    "    'reg_alpha' :[1,8,20],\n",
    "    'reg_lambda' :[1,8,20]\n",
    "}"
   ]
  },
  {
   "cell_type": "code",
   "execution_count": null,
   "metadata": {},
   "outputs": [
    {
     "name": "stdout",
     "output_type": "stream",
     "text": [
      "Fitting 5 folds for each of 270 candidates, totalling 1350 fits\n"
     ]
    },
    {
     "name": "stderr",
     "output_type": "stream",
     "text": [
      "[Parallel(n_jobs=-2)]: Using backend LokyBackend with 3 concurrent workers.\n",
      "[Parallel(n_jobs=-2)]: Done  26 tasks      | elapsed:   15.5s\n",
      "[Parallel(n_jobs=-2)]: Done 122 tasks      | elapsed:  3.9min\n",
      "[Parallel(n_jobs=-2)]: Done 282 tasks      | elapsed: 22.6min\n",
      "[Parallel(n_jobs=-2)]: Done 506 tasks      | elapsed: 43.4min\n",
      "[Parallel(n_jobs=-2)]: Done 794 tasks      | elapsed: 62.3min\n"
     ]
    }
   ],
   "source": [
    "from sklearn.model_selection import GridSearchCV\n",
    "clf = GridSearchCV(xgboost, parameters,verbose=3,n_jobs=-2)\n",
    "clf.fit(X,y)"
   ]
  },
  {
   "cell_type": "code",
   "execution_count": null,
   "metadata": {},
   "outputs": [],
   "source": [
    "stop at 9"
   ]
  },
  {
   "cell_type": "code",
   "execution_count": null,
   "metadata": {},
   "outputs": [],
   "source": []
  }
 ],
 "metadata": {
  "kernelspec": {
   "display_name": "Python 3",
   "language": "python",
   "name": "python3"
  },
  "language_info": {
   "codemirror_mode": {
    "name": "ipython",
    "version": 3
   },
   "file_extension": ".py",
   "mimetype": "text/x-python",
   "name": "python",
   "nbconvert_exporter": "python",
   "pygments_lexer": "ipython3",
   "version": "3.8.5"
  }
 },
 "nbformat": 4,
 "nbformat_minor": 4
}
