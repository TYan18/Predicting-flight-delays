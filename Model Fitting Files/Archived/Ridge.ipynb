{
 "cells": [
  {
   "cell_type": "markdown",
   "metadata": {},
   "source": [
    "# Ridge regression with default parameters"
   ]
  },
  {
   "cell_type": "code",
   "execution_count": 2,
   "metadata": {},
   "outputs": [],
   "source": [
    "import numpy as np\n",
    "import pandas as pd\n",
    "from sklearn.model_selection import train_test_split\n",
    "from sklearn.linear_model import Ridge\n",
    "from sklearn.metrics import r2_score, mean_squared_error"
   ]
  },
  {
   "cell_type": "code",
   "execution_count": 7,
   "metadata": {},
   "outputs": [
    {
     "name": "stdout",
     "output_type": "stream",
     "text": [
      "(9970, 657)\n",
      "(9970,)\n"
     ]
    }
   ],
   "source": [
    "# Import X and y (pre-processed data) from csv files\n",
    "\n",
    "X = pd.read_csv('X.csv', index_col = 'Unnamed: 0')\n",
    "y = pd.read_csv('y.csv', index_col = 'Unnamed: 0')\n",
    "\n",
    "# Target variable y is scaled, but retains (+/-) sign, denoting whether\n",
    "# flight arrived early (-) or late (+)\n",
    "\n",
    "y = y['yFT']\n",
    "\n",
    "print(X.shape)\n",
    "print(y.shape)"
   ]
  },
  {
   "cell_type": "code",
   "execution_count": 4,
   "metadata": {},
   "outputs": [],
   "source": [
    "# Split the training data into sub-splits of training and \n",
    "# testing data (70% training, 30% testing)\n",
    "\n",
    "X_train, X_test, y_train, y_test = train_test_split(\n",
    "        X, y, test_size = 0.3, random_state = 1)"
   ]
  },
  {
   "cell_type": "code",
   "execution_count": 5,
   "metadata": {},
   "outputs": [],
   "source": [
    "# Fit the training data into a ridge regression model\n",
    "\n",
    "rr = Ridge()\n",
    "rr.fit(X_train, y_train)\n",
    "y_rr = rr.predict(X_test)"
   ]
  },
  {
   "cell_type": "code",
   "execution_count": 6,
   "metadata": {},
   "outputs": [
    {
     "name": "stdout",
     "output_type": "stream",
     "text": [
      "RMSE:  1.1383162186882478\n",
      "R-squared score:  -0.02977348946182956\n"
     ]
    }
   ],
   "source": [
    "# Calculate the R-squared score and RMSE (root mean square error) to\n",
    "# determine how well the ridge regression performed\n",
    "\n",
    "print('RMSE: ', mean_squared_error(y_test, y_rr))\n",
    "print('R-squared score: ', r2_score(y_test, y_rr))"
   ]
  },
  {
   "cell_type": "markdown",
   "metadata": {},
   "source": [
    "# Now try again with 100000 rows of data"
   ]
  },
  {
   "cell_type": "code",
   "execution_count": 9,
   "metadata": {},
   "outputs": [
    {
     "name": "stdout",
     "output_type": "stream",
     "text": [
      "(98047, 771)\n",
      "(98047,)\n"
     ]
    }
   ],
   "source": [
    "X = pd.read_csv('X100k.csv', index_col = 'Unnamed: 0', compression = 'gzip')\n",
    "y = pd.read_csv('y100k.csv', index_col = 'Unnamed: 0', compression = 'gzip')\n",
    "y = y['yFT']\n",
    "print(X.shape)\n",
    "print(y.shape)"
   ]
  },
  {
   "cell_type": "code",
   "execution_count": 10,
   "metadata": {},
   "outputs": [
    {
     "name": "stdout",
     "output_type": "stream",
     "text": [
      "Training score:  0.029931457845720932\n",
      "R-squared test score:  0.006466164364790972\n"
     ]
    }
   ],
   "source": [
    "X_train, X_test, y_train, y_test = train_test_split(\n",
    "        X, y, test_size = 0.3, random_state = 1)\n",
    "\n",
    "rr = Ridge()\n",
    "rr.fit(X_train, y_train)\n",
    "y_rr = rr.predict(X_test)\n",
    "\n",
    "print('Training score: ', rr.score(X_train, y_train))\n",
    "print('R-squared test score: ', r2_score(y_test, y_rr))"
   ]
  }
 ],
 "metadata": {
  "kernelspec": {
   "display_name": "Python 3",
   "language": "python",
   "name": "python3"
  },
  "language_info": {
   "codemirror_mode": {
    "name": "ipython",
    "version": 3
   },
   "file_extension": ".py",
   "mimetype": "text/x-python",
   "name": "python",
   "nbconvert_exporter": "python",
   "pygments_lexer": "ipython3",
   "version": "3.7.6"
  }
 },
 "nbformat": 4,
 "nbformat_minor": 4
}
