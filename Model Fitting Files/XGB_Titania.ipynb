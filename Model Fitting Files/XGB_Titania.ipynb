{
 "cells": [
  {
   "cell_type": "markdown",
   "metadata": {},
   "source": [
    "## Using XGBRegressor() on data scaled by MinMaxScaler(), instead of StandardScaler()"
   ]
  },
  {
   "cell_type": "markdown",
   "metadata": {},
   "source": [
    "## 10000 rows of data"
   ]
  },
  {
   "cell_type": "code",
   "execution_count": 1,
   "metadata": {},
   "outputs": [],
   "source": [
    "import pandas as pd\n",
    "import numpy as np\n",
    "from sklearn.model_selection import train_test_split\n",
    "from xgboost import XGBRegressor\n",
    "from sklearn.metrics import r2_score, mean_squared_error"
   ]
  },
  {
   "cell_type": "code",
   "execution_count": 10,
   "metadata": {},
   "outputs": [],
   "source": [
    "X = pd.read_csv('X_test.csv')\n",
    "y = pd.read_csv('y_test.csv')\n",
    "y = y['yFT']\n",
    "\n",
    "X_train, X_test, y_train, y_test = train_test_split(X, y, test_size = 0.3, random_state = 1)\n",
    "\n",
    "xgboost = XGBRegressor()\n",
    "xgboost.fit(X_train, y_train)\n",
    "y_pred= xgboost.predict(X_test)\n",
    "\n",
    "print('Training score: ', xgboost.score(X_train, y_train))\n",
    "print('RMSE: ', mean_squared_error(y_test, y_pred))\n",
    "print('R-squared score: ', r2_score(y_test, y_pred))"
   ]
  },
  {
   "cell_type": "markdown",
   "metadata": {},
   "source": [
    "## 100000 rows of data"
   ]
  },
  {
   "cell_type": "code",
   "execution_count": 18,
   "metadata": {},
   "outputs": [],
   "source": [
    "X = pd.read_csv('X_test100000.csv')\n",
    "ydf = pd.read_csv('y_test100000.csv')\n",
    "\n",
    "y = ydf['yFT']\n",
    "\n",
    "X_train, X_test, y_train, y_test = train_test_split(X, y, test_size = 0.3, random_state = 1)\n",
    "\n",
    "xgboost = XGBRegressor()\n",
    "xgboost.fit(X_train, y_train)\n",
    "y_pred = xgboost.predict(X_test)"
   ]
  },
  {
   "cell_type": "code",
   "execution_count": 19,
   "metadata": {},
   "outputs": [
    {
     "name": "stdout",
     "output_type": "stream",
     "text": [
      "Training R-Square 0.16326952350050172\n",
      "RMSE:  0.9684616081650654\n",
      "R-squared score:  0.0340012678853745\n"
     ]
    }
   ],
   "source": [
    "print('Training R-Square', xgboost.score(X_train, y_train))\n",
    "print('RMSE: ', mean_squared_error(y_test, y_pred))\n",
    "print('R-squared score: ', r2_score(y_test, y_pred))"
   ]
  },
  {
   "cell_type": "markdown",
   "metadata": {},
   "source": [
    "# No dummy (categorical) variables\n",
    "- MinMaxScaler for all variables including feature variable\n",
    "- 100000 rows\n",
    "- Month and unique carrier ID columns dropped\n",
    "- Origin and dest columns replaced with avg. arrival delay (unscaled)"
   ]
  },
  {
   "cell_type": "code",
   "execution_count": 11,
   "metadata": {},
   "outputs": [],
   "source": [
    "def replace_origin_dest(df):\n",
    "    # df: X features dataframe without one-hot encoding\n",
    "\n",
    "    # Find the average delay times by origin location, and store the values in a dictionary\n",
    "    origin = pd.read_csv('origin_arr_delay.txt', delimiter = '\\t', names = ['origin', 'avg_delay'])\n",
    "    origin = pd.Series(origin.avg_delay.values, index = origin.origin).to_dict()\n",
    "    \n",
    "    # Find the average delay times by destination location, and store the values in a dictionary\n",
    "    dest = pd.read_csv('dest_arr_delay.txt', delimiter = '\\t', names = ['dest', 'avg_delay'])\n",
    "    dest = pd.Series(dest.avg_delay.values, index = dest.dest).to_dict()\n",
    "    \n",
    "    # Replace the values in the \"origin\" and \"dest\" columns with the average arrival delay time\n",
    "    df['origin'] = df['origin'].replace(origin)\n",
    "    df['dest'] = df['dest'].replace(dest)\n",
    "    \n",
    "    return df"
   ]
  },
  {
   "cell_type": "code",
   "execution_count": 15,
   "metadata": {},
   "outputs": [
    {
     "name": "stdout",
     "output_type": "stream",
     "text": [
      "Training R-Square 0.17528500134304825\n",
      "RMSE:  0.02781708895978555\n",
      "R-squared score:  0.016622917851691343\n"
     ]
    }
   ],
   "source": [
    "X = pd.read_csv('X_test100000noDum.csv', compression = 'gzip')\n",
    "y = pd.read_csv('y_test100000noDum.csv', compression = 'gzip')\n",
    "X = X.drop(['op_unique_carrier', 'month'], axis = 1)\n",
    "X = replace_origin_dest(X)\n",
    "y = y['yFT']\n",
    "\n",
    "X_train, X_test, y_train, y_test = train_test_split(X, y, test_size = 0.3, random_state = 1)\n",
    "\n",
    "xgboost = XGBRegressor()\n",
    "xgboost.fit(X_train, y_train)\n",
    "y_pred = xgboost.predict(X_test)\n",
    "\n",
    "print('Training R-Square', xgboost.score(X_train, y_train))\n",
    "print('RMSE: ', mean_squared_error(y_test, y_pred))\n",
    "print('R-squared score: ', r2_score(y_test, y_pred))"
   ]
  },
  {
   "cell_type": "markdown",
   "metadata": {},
   "source": [
    "## 100000 rows, standard scaling, no outlier removal"
   ]
  },
  {
   "cell_type": "code",
   "execution_count": 11,
   "metadata": {},
   "outputs": [
    {
     "name": "stdout",
     "output_type": "stream",
     "text": [
      "Train R2 score:  0.14355700876265898\n",
      "Test R2 score:  0.005752405341934663\n"
     ]
    }
   ],
   "source": [
    "X = pd.read_pickle('X_standard', compression = 'gzip')\n",
    "y = pd.read_pickle('y', compression = 'gzip')\n",
    "X_train, X_test, y_train, y_test = train_test_split(X, y,\n",
    "                            test_size = 0.2, random_state = 1)\n",
    "xgboost = XGBRegressor(n_estimators = 100, learning_rate = 0.1,\n",
    "                      reg_alpha = 8)\n",
    "xgboost.fit(X_train, y_train)\n",
    "y_pred = xgboost.predict(X_test)\n",
    "\n",
    "print('Train R2 score: ', xgboost.score(X_train, y_train))\n",
    "print('Test R2 score: ', r2_score(y_test, y_pred))"
   ]
  },
  {
   "cell_type": "markdown",
   "metadata": {},
   "source": [
    "## 100000 rows, min-max scaling, no outlier removal"
   ]
  },
  {
   "cell_type": "code",
   "execution_count": 10,
   "metadata": {},
   "outputs": [
    {
     "name": "stdout",
     "output_type": "stream",
     "text": [
      "Train R2 score:  0.14355700876265898\n",
      "Test R2 score:  0.005692622235527689\n"
     ]
    }
   ],
   "source": [
    "X = pd.read_pickle('X_minmax', compression = 'gzip')\n",
    "y = pd.read_pickle('y', compression = 'gzip')\n",
    "X_train, X_test, y_train, y_test = train_test_split(X, y,\n",
    "                            test_size = 0.2, random_state = 1)\n",
    "xgboost = XGBRegressor(n_estimators = 100, learning_rate = 0.1,\n",
    "                      reg_alpha = 8)\n",
    "xgboost.fit(X_train, y_train)\n",
    "y_pred = xgboost.predict(X_test)\n",
    "\n",
    "print('Train R2 score: ', xgboost.score(X_train, y_train))\n",
    "print('Test R2 score: ', r2_score(y_test, y_pred))"
   ]
  },
  {
   "cell_type": "markdown",
   "metadata": {},
   "source": [
    "## 100000 rows, robust scaling, no outlier removal"
   ]
  },
  {
   "cell_type": "code",
   "execution_count": 12,
   "metadata": {},
   "outputs": [
    {
     "name": "stdout",
     "output_type": "stream",
     "text": [
      "Train R2 score:  0.14355700876265898\n",
      "Test R2 score:  0.005653810087580369\n"
     ]
    }
   ],
   "source": [
    "X = pd.read_pickle('X_robust', compression = 'gzip')\n",
    "y = pd.read_pickle('y', compression = 'gzip')\n",
    "X_train, X_test, y_train, y_test = train_test_split(X, y,\n",
    "                            test_size = 0.2, random_state = 1)\n",
    "xgboost = XGBRegressor(n_estimators = 100, learning_rate = 0.1,\n",
    "                      reg_alpha = 8)\n",
    "xgboost.fit(X_train, y_train)\n",
    "y_pred = xgboost.predict(X_test)\n",
    "\n",
    "print('Train R2 score: ', xgboost.score(X_train, y_train))\n",
    "print('Test R2 score: ', r2_score(y_test, y_pred))"
   ]
  },
  {
   "cell_type": "markdown",
   "metadata": {},
   "source": [
    "## 100000 rows, power transformation, no outlier removal"
   ]
  },
  {
   "cell_type": "code",
   "execution_count": 14,
   "metadata": {},
   "outputs": [
    {
     "name": "stdout",
     "output_type": "stream",
     "text": [
      "Train R2 score:  0.14355700876265898\n",
      "Test R2 score:  0.0056373997010491506\n"
     ]
    }
   ],
   "source": [
    "X = pd.read_pickle('X_powertrans', compression = 'gzip')\n",
    "y = pd.read_pickle('y', compression = 'gzip')\n",
    "X_train, X_test, y_train, y_test = train_test_split(X, y,\n",
    "                            test_size = 0.2, random_state = 1)\n",
    "xgboost = XGBRegressor(n_estimators = 100, learning_rate = 0.1,\n",
    "                      reg_alpha = 8)\n",
    "xgboost.fit(X_train, y_train)\n",
    "y_pred = xgboost.predict(X_test)\n",
    "\n",
    "print('Train R2 score: ', xgboost.score(X_train, y_train))\n",
    "print('Test R2 score: ', r2_score(y_test, y_pred))"
   ]
  },
  {
   "cell_type": "markdown",
   "metadata": {},
   "source": [
    "## 100000 rows, standard scaler, month (1-12) and day of week (0-6) as categorical numerical variables"
   ]
  },
  {
   "cell_type": "code",
   "execution_count": 5,
   "metadata": {},
   "outputs": [],
   "source": [
    "X = pd.read_pickle('X_fl_datetime_standard', compression = 'gzip')\n",
    "X['month'] = X['fl_date'].dt.month\n",
    "X['day_of_week'] = X['fl_date'].dt.dayofweek\n",
    "X = X.drop('fl_date', axis = 1)\n",
    "y = pd.read_pickle('y', compression = 'gzip')"
   ]
  },
  {
   "cell_type": "code",
   "execution_count": 8,
   "metadata": {},
   "outputs": [
    {
     "name": "stdout",
     "output_type": "stream",
     "text": [
      "Train R2 score:  0.15977622435474026\n",
      "Test R2 score:  0.009094024528185973\n"
     ]
    }
   ],
   "source": [
    "X_train, X_test, y_train, y_test = train_test_split(X, y,\n",
    "                            test_size = 0.2, random_state = 1)\n",
    "xgboost = XGBRegressor(n_estimators = 100, learning_rate = 0.1,\n",
    "                      reg_alpha = 8)\n",
    "xgboost.fit(X_train, y_train)\n",
    "y_pred = xgboost.predict(X_test)\n",
    "\n",
    "print('Train R2 score: ', xgboost.score(X_train, y_train))\n",
    "print('Test R2 score: ', r2_score(y_test, y_pred))"
   ]
  },
  {
   "cell_type": "markdown",
   "metadata": {},
   "source": [
    "## 100000 rows, min-max scaler, month (1-12) and day of week (0-6) as categorical numerical variables"
   ]
  },
  {
   "cell_type": "code",
   "execution_count": 9,
   "metadata": {},
   "outputs": [],
   "source": [
    "X = pd.read_pickle('X_fl_datetime_minmax', compression = 'gzip')\n",
    "X['month'] = X['fl_date'].dt.month\n",
    "X['day_of_week'] = X['fl_date'].dt.dayofweek\n",
    "X = X.drop('fl_date', axis = 1)\n",
    "y = pd.read_pickle('y', compression = 'gzip')"
   ]
  },
  {
   "cell_type": "code",
   "execution_count": 10,
   "metadata": {},
   "outputs": [
    {
     "name": "stdout",
     "output_type": "stream",
     "text": [
      "Train R2 score:  0.15977622435474026\n",
      "Test R2 score:  0.009102573118755508\n"
     ]
    }
   ],
   "source": [
    "X_train, X_test, y_train, y_test = train_test_split(X, y,\n",
    "                            test_size = 0.2, random_state = 1)\n",
    "xgboost = XGBRegressor(n_estimators = 100, learning_rate = 0.1,\n",
    "                      reg_alpha = 8)\n",
    "xgboost.fit(X_train, y_train)\n",
    "y_pred = xgboost.predict(X_test)\n",
    "\n",
    "print('Train R2 score: ', xgboost.score(X_train, y_train))\n",
    "print('Test R2 score: ', r2_score(y_test, y_pred))"
   ]
  },
  {
   "cell_type": "markdown",
   "metadata": {},
   "source": [
    "## 100000 rows, standard scaler, month and day of week encoded as dummy variables"
   ]
  },
  {
   "cell_type": "code",
   "execution_count": 14,
   "metadata": {},
   "outputs": [],
   "source": [
    "X = pd.read_pickle('X_fl_datetime_standard', compression = 'gzip')\n",
    "X['month'] = X['fl_date'].dt.month\n",
    "X['day_of_week'] = X['fl_date'].dt.dayofweek\n",
    "X = X.drop('fl_date', axis = 1)\n",
    "y = pd.read_pickle('y', compression = 'gzip')"
   ]
  },
  {
   "cell_type": "code",
   "execution_count": 13,
   "metadata": {},
   "outputs": [
    {
     "data": {
      "text/plain": [
       "crs_dep_timeFT        float64\n",
       "crs_arr_timeFT        float64\n",
       "crs_elapsed_timeFT    float64\n",
       "distanceFT            float64\n",
       "op_unique_carrier     float64\n",
       "origin                float64\n",
       "dest                  float64\n",
       "month                   int64\n",
       "day_of_week             int64\n",
       "dtype: object"
      ]
     },
     "execution_count": 13,
     "metadata": {},
     "output_type": "execute_result"
    }
   ],
   "source": [
    "X.dtypes"
   ]
  }
 ],
 "metadata": {
  "kernelspec": {
   "display_name": "Python 3",
   "language": "python",
   "name": "python3"
  },
  "language_info": {
   "codemirror_mode": {
    "name": "ipython",
    "version": 3
   },
   "file_extension": ".py",
   "mimetype": "text/x-python",
   "name": "python",
   "nbconvert_exporter": "python",
   "pygments_lexer": "ipython3",
   "version": "3.7.6"
  }
 },
 "nbformat": 4,
 "nbformat_minor": 4
}
