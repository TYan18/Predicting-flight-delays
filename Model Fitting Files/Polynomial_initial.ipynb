{
 "cells": [
  {
   "cell_type": "markdown",
   "metadata": {},
   "source": [
    "# Polynomial linear regression with degree = 2 and features = 5"
   ]
  },
  {
   "cell_type": "code",
   "execution_count": 53,
   "metadata": {},
   "outputs": [],
   "source": [
    "import numpy as np\n",
    "import pandas as pd\n",
    "from sklearn.preprocessing import PolynomialFeatures\n",
    "from sklearn.model_selection import train_test_split\n",
    "from sklearn.linear_model import LinearRegression\n",
    "from sklearn.metrics import r2_score, mean_squared_error"
   ]
  },
  {
   "cell_type": "code",
   "execution_count": 54,
   "metadata": {},
   "outputs": [
    {
     "name": "stdout",
     "output_type": "stream",
     "text": [
      "(9970, 5)\n",
      "(9970,)\n"
     ]
    }
   ],
   "source": [
    "# Import X and y (pre-processed data) from csv files\n",
    "\n",
    "X = pd.read_csv('X.csv', index_col = 'Unnamed: 0')\n",
    "y = pd.read_csv('y.csv', index_col = 'Unnamed: 0')\n",
    "\n",
    "# For polynomial regression, choose 5 columns that were originally\n",
    "# numerical data (scaled by ScandardScaler())\n",
    "# Target variable y is scaled, but retains (+/-) sign, denoting whether\n",
    "# flight arrived early (-) or late (+)\n",
    "\n",
    "X = X[['month', 'crs_dep_timeFT', 'crs_arr_timeFT',\n",
    "      'crs_elapsed_timeFT', 'distanceFT']]\n",
    "y = y['yFT']\n",
    "\n",
    "print(X.shape)\n",
    "print(y.shape)"
   ]
  },
  {
   "cell_type": "code",
   "execution_count": 56,
   "metadata": {},
   "outputs": [
    {
     "name": "stdout",
     "output_type": "stream",
     "text": [
      "(9970, 253)\n"
     ]
    }
   ],
   "source": [
    "# First try polynomial degree = 2\n",
    "\n",
    "X = np.array(X)\n",
    "y = np.array(y)\n",
    "pf = PolynomialFeatures(2)\n",
    "X = pf.fit_transform(X)\n",
    "print(X.shape)"
   ]
  },
  {
   "cell_type": "code",
   "execution_count": 67,
   "metadata": {},
   "outputs": [],
   "source": [
    "# Split the training data into sub-splits of training and \n",
    "# testing data (70% training, 30% testing)\n",
    "\n",
    "X_train, X_test, y_train, y_test = train_test_split(\n",
    "        X, y, test_size = 0.3, random_state = 1)"
   ]
  },
  {
   "cell_type": "code",
   "execution_count": 68,
   "metadata": {},
   "outputs": [],
   "source": [
    "# Fit the polynomial feature-transformed data as a linear regression model\n",
    "\n",
    "lr = LinearRegression()\n",
    "lr.fit(X_train, y_train)\n",
    "y_lr = lr.predict(X_test)"
   ]
  },
  {
   "cell_type": "code",
   "execution_count": 69,
   "metadata": {},
   "outputs": [
    {
     "name": "stdout",
     "output_type": "stream",
     "text": [
      "RMSE:  1.1176475599746347\n",
      "R-squared score:  -0.011075665029054438\n"
     ]
    }
   ],
   "source": [
    "# Calculate the R-squared score and RMSE (root mean square error) to\n",
    "# determine how well the polynomial linear regression performed\n",
    "\n",
    "print('RMSE: ', mean_squared_error(y_test, y_lr))\n",
    "print('R-squared score: ', r2_score(y_test, y_lr))"
   ]
  },
  {
   "cell_type": "markdown",
   "metadata": {},
   "source": [
    "# The R-squared score is negative, so this model performs worse than random guessing. I am abandoning it."
   ]
  }
 ],
 "metadata": {
  "kernelspec": {
   "display_name": "Python 3",
   "language": "python",
   "name": "python3"
  },
  "language_info": {
   "codemirror_mode": {
    "name": "ipython",
    "version": 3
   },
   "file_extension": ".py",
   "mimetype": "text/x-python",
   "name": "python",
   "nbconvert_exporter": "python",
   "pygments_lexer": "ipython3",
   "version": "3.7.6"
  }
 },
 "nbformat": 4,
 "nbformat_minor": 4
}
