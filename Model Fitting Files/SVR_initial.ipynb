{
 "cells": [
  {
   "cell_type": "markdown",
   "metadata": {},
   "source": [
    "# Support vector regression with default parameters"
   ]
  },
  {
   "cell_type": "code",
   "execution_count": 1,
   "metadata": {},
   "outputs": [],
   "source": [
    "import numpy as np\n",
    "import pandas as pd\n",
    "from sklearn.model_selection import train_test_split\n",
    "from sklearn.svm import SVR\n",
    "from sklearn.metrics import r2_score, mean_squared_error"
   ]
  },
  {
   "cell_type": "code",
   "execution_count": 2,
   "metadata": {},
   "outputs": [
    {
     "name": "stdout",
     "output_type": "stream",
     "text": [
      "(9970, 5)\n",
      "(9970,)\n"
     ]
    }
   ],
   "source": [
    "# Import X and y (pre-processed data) from csv files\n",
    "\n",
    "X = pd.read_csv('X.csv', index_col = 'Unnamed: 0')\n",
    "y = pd.read_csv('y.csv', index_col = 'Unnamed: 0')\n",
    "\n",
    "# For polynomial regression, choose 5 columns that were originally\n",
    "# numerical data (scaled by ScandardScaler())\n",
    "# Target variable y is scaled, but retains (+/-) sign, denoting whether\n",
    "# flight arrived early (-) or late (+)\n",
    "\n",
    "X = X[['month', 'crs_dep_timeFT', 'crs_arr_timeFT',\n",
    "      'crs_elapsed_timeFT', 'distanceFT']]\n",
    "y = y['yFT']\n",
    "\n",
    "print(X.shape)\n",
    "print(y.shape)"
   ]
  },
  {
   "cell_type": "code",
   "execution_count": 3,
   "metadata": {},
   "outputs": [],
   "source": [
    "# Split the training data into sub-splits of training and \n",
    "# testing data (70% training, 30% testing)\n",
    "\n",
    "X_train, X_test, y_train, y_test = train_test_split(\n",
    "        X, y, test_size = 0.3, random_state = 1)"
   ]
  },
  {
   "cell_type": "code",
   "execution_count": 6,
   "metadata": {},
   "outputs": [],
   "source": [
    "# Fit the training data into a SVM model\n",
    "\n",
    "svr = SVR()\n",
    "svr.fit(X_train, y_train)\n",
    "y_svr = svr.predict(X_test)"
   ]
  },
  {
   "cell_type": "code",
   "execution_count": 8,
   "metadata": {},
   "outputs": [
    {
     "name": "stdout",
     "output_type": "stream",
     "text": [
      "RMSE:  1.151641387510122\n",
      "R-squared score:  -0.04182805336076245\n"
     ]
    }
   ],
   "source": [
    "# Calculate the R-squared score and RMSE (root mean square error) to\n",
    "# determine how well SVR performed\n",
    "\n",
    "print('RMSE: ', mean_squared_error(y_test, y_svr))\n",
    "print('R-squared score: ', r2_score(y_test, y_svr))"
   ]
  },
  {
   "cell_type": "markdown",
   "metadata": {},
   "source": [
    "# The R-squared score is negative; this model performs slightly worse than random guessing. I will abandon this model."
   ]
  }
 ],
 "metadata": {
  "kernelspec": {
   "display_name": "Python 3",
   "language": "python",
   "name": "python3"
  },
  "language_info": {
   "codemirror_mode": {
    "name": "ipython",
    "version": 3
   },
   "file_extension": ".py",
   "mimetype": "text/x-python",
   "name": "python",
   "nbconvert_exporter": "python",
   "pygments_lexer": "ipython3",
   "version": "3.7.6"
  }
 },
 "nbformat": 4,
 "nbformat_minor": 4
}
