{
 "cells": [
  {
   "cell_type": "code",
   "execution_count": 33,
   "metadata": {},
   "outputs": [],
   "source": [
    "import pandas as pd\n",
    "import numpy as np\n",
    "import seaborn as sns"
   ]
  },
  {
   "cell_type": "code",
   "execution_count": 2,
   "metadata": {},
   "outputs": [],
   "source": [
    "def addXGBClsfPred(X,y):\n",
    "    from xgboost import XGBClassifier\n",
    "    xgboost = XGBClassifier(n_estimators=100,learning_rate=0.1,reg_alpha=8)\n",
    "    xgboost.fit(X, y)\n",
    "    X['xgbPred']= xgboost.predict(X_test)\n",
    "    \n",
    "    return X\n",
    "    \n",
    "    \n",
    "    "
   ]
  },
  {
   "cell_type": "code",
   "execution_count": 3,
   "metadata": {},
   "outputs": [
    {
     "data": {
      "text/html": [
       "<div>\n",
       "<style scoped>\n",
       "    .dataframe tbody tr th:only-of-type {\n",
       "        vertical-align: middle;\n",
       "    }\n",
       "\n",
       "    .dataframe tbody tr th {\n",
       "        vertical-align: top;\n",
       "    }\n",
       "\n",
       "    .dataframe thead th {\n",
       "        text-align: right;\n",
       "    }\n",
       "</style>\n",
       "<table border=\"1\" class=\"dataframe\">\n",
       "  <thead>\n",
       "    <tr style=\"text-align: right;\">\n",
       "      <th></th>\n",
       "      <th>crs_dep_timeFT</th>\n",
       "      <th>crs_arr_timeFT</th>\n",
       "      <th>crs_elapsed_timeFT</th>\n",
       "      <th>distanceFT</th>\n",
       "      <th>op_unique_carrier</th>\n",
       "      <th>origin</th>\n",
       "      <th>dest</th>\n",
       "      <th>month</th>\n",
       "      <th>dayWeek</th>\n",
       "    </tr>\n",
       "  </thead>\n",
       "  <tbody>\n",
       "    <tr>\n",
       "      <th>0</th>\n",
       "      <td>0.404950</td>\n",
       "      <td>0.475464</td>\n",
       "      <td>-0.252310</td>\n",
       "      <td>-0.371468</td>\n",
       "      <td>0.538777</td>\n",
       "      <td>1.766642</td>\n",
       "      <td>-0.046907</td>\n",
       "      <td>4</td>\n",
       "      <td>0</td>\n",
       "    </tr>\n",
       "    <tr>\n",
       "      <th>1</th>\n",
       "      <td>-1.030286</td>\n",
       "      <td>-1.074137</td>\n",
       "      <td>-0.808416</td>\n",
       "      <td>-0.651979</td>\n",
       "      <td>-0.541576</td>\n",
       "      <td>-1.089924</td>\n",
       "      <td>-0.722955</td>\n",
       "      <td>7</td>\n",
       "      <td>6</td>\n",
       "    </tr>\n",
       "    <tr>\n",
       "      <th>2</th>\n",
       "      <td>-0.825252</td>\n",
       "      <td>0.088064</td>\n",
       "      <td>0.706974</td>\n",
       "      <td>0.748875</td>\n",
       "      <td>0.484104</td>\n",
       "      <td>-1.104809</td>\n",
       "      <td>-0.330836</td>\n",
       "      <td>4</td>\n",
       "      <td>1</td>\n",
       "    </tr>\n",
       "    <tr>\n",
       "      <th>3</th>\n",
       "      <td>0.609983</td>\n",
       "      <td>0.475464</td>\n",
       "      <td>-0.794514</td>\n",
       "      <td>-0.889988</td>\n",
       "      <td>0.484104</td>\n",
       "      <td>0.018107</td>\n",
       "      <td>0.555854</td>\n",
       "      <td>11</td>\n",
       "      <td>2</td>\n",
       "    </tr>\n",
       "    <tr>\n",
       "      <th>4</th>\n",
       "      <td>-0.005118</td>\n",
       "      <td>0.088064</td>\n",
       "      <td>-0.474752</td>\n",
       "      <td>-0.597577</td>\n",
       "      <td>0.210159</td>\n",
       "      <td>-0.329730</td>\n",
       "      <td>1.621178</td>\n",
       "      <td>10</td>\n",
       "      <td>5</td>\n",
       "    </tr>\n",
       "    <tr>\n",
       "      <th>...</th>\n",
       "      <td>...</td>\n",
       "      <td>...</td>\n",
       "      <td>...</td>\n",
       "      <td>...</td>\n",
       "      <td>...</td>\n",
       "      <td>...</td>\n",
       "      <td>...</td>\n",
       "      <td>...</td>\n",
       "      <td>...</td>\n",
       "    </tr>\n",
       "    <tr>\n",
       "      <th>99995</th>\n",
       "      <td>0.404950</td>\n",
       "      <td>0.281764</td>\n",
       "      <td>-0.808416</td>\n",
       "      <td>-0.704681</td>\n",
       "      <td>-0.541576</td>\n",
       "      <td>-0.861272</td>\n",
       "      <td>0.260061</td>\n",
       "      <td>9</td>\n",
       "      <td>1</td>\n",
       "    </tr>\n",
       "    <tr>\n",
       "      <th>99996</th>\n",
       "      <td>1.635151</td>\n",
       "      <td>-2.817438</td>\n",
       "      <td>-0.224504</td>\n",
       "      <td>-0.087557</td>\n",
       "      <td>0.448690</td>\n",
       "      <td>1.766642</td>\n",
       "      <td>3.889518</td>\n",
       "      <td>10</td>\n",
       "      <td>0</td>\n",
       "    </tr>\n",
       "    <tr>\n",
       "      <th>99997</th>\n",
       "      <td>1.020050</td>\n",
       "      <td>1.250264</td>\n",
       "      <td>-0.599876</td>\n",
       "      <td>-0.388469</td>\n",
       "      <td>1.202815</td>\n",
       "      <td>-0.065834</td>\n",
       "      <td>0.349519</td>\n",
       "      <td>1</td>\n",
       "      <td>1</td>\n",
       "    </tr>\n",
       "    <tr>\n",
       "      <th>99998</th>\n",
       "      <td>0.815017</td>\n",
       "      <td>0.862864</td>\n",
       "      <td>-0.766708</td>\n",
       "      <td>-0.925690</td>\n",
       "      <td>0.569946</td>\n",
       "      <td>0.513858</td>\n",
       "      <td>-1.006962</td>\n",
       "      <td>6</td>\n",
       "      <td>1</td>\n",
       "    </tr>\n",
       "    <tr>\n",
       "      <th>99999</th>\n",
       "      <td>0.609983</td>\n",
       "      <td>0.669164</td>\n",
       "      <td>-0.446947</td>\n",
       "      <td>-0.254164</td>\n",
       "      <td>0.214879</td>\n",
       "      <td>-0.448741</td>\n",
       "      <td>-0.943328</td>\n",
       "      <td>7</td>\n",
       "      <td>5</td>\n",
       "    </tr>\n",
       "  </tbody>\n",
       "</table>\n",
       "<p>98047 rows × 9 columns</p>\n",
       "</div>"
      ],
      "text/plain": [
       "       crs_dep_timeFT  crs_arr_timeFT  crs_elapsed_timeFT  distanceFT  \\\n",
       "0            0.404950        0.475464           -0.252310   -0.371468   \n",
       "1           -1.030286       -1.074137           -0.808416   -0.651979   \n",
       "2           -0.825252        0.088064            0.706974    0.748875   \n",
       "3            0.609983        0.475464           -0.794514   -0.889988   \n",
       "4           -0.005118        0.088064           -0.474752   -0.597577   \n",
       "...               ...             ...                 ...         ...   \n",
       "99995        0.404950        0.281764           -0.808416   -0.704681   \n",
       "99996        1.635151       -2.817438           -0.224504   -0.087557   \n",
       "99997        1.020050        1.250264           -0.599876   -0.388469   \n",
       "99998        0.815017        0.862864           -0.766708   -0.925690   \n",
       "99999        0.609983        0.669164           -0.446947   -0.254164   \n",
       "\n",
       "       op_unique_carrier    origin      dest  month  dayWeek  \n",
       "0               0.538777  1.766642 -0.046907      4        0  \n",
       "1              -0.541576 -1.089924 -0.722955      7        6  \n",
       "2               0.484104 -1.104809 -0.330836      4        1  \n",
       "3               0.484104  0.018107  0.555854     11        2  \n",
       "4               0.210159 -0.329730  1.621178     10        5  \n",
       "...                  ...       ...       ...    ...      ...  \n",
       "99995          -0.541576 -0.861272  0.260061      9        1  \n",
       "99996           0.448690  1.766642  3.889518     10        0  \n",
       "99997           1.202815 -0.065834  0.349519      1        1  \n",
       "99998           0.569946  0.513858 -1.006962      6        1  \n",
       "99999           0.214879 -0.448741 -0.943328      7        5  \n",
       "\n",
       "[98047 rows x 9 columns]"
      ]
     },
     "execution_count": 3,
     "metadata": {},
     "output_type": "execute_result"
    }
   ],
   "source": [
    "X= pd.read_pickle('../Model Fitting Files/X_fl_datetime_standard', compression='gzip')\n",
    "X['month'] = pd.DatetimeIndex(pd.to_datetime(X['fl_date'],\n",
    "                        infer_datetime_format = True)).month\n",
    "X['dayWeek'] = pd.DatetimeIndex(pd.to_datetime(X['fl_date'],\n",
    "                        infer_datetime_format = True)).dayofweek\n",
    "X.drop(columns='fl_date', inplace=True)\n",
    "X"
   ]
  },
  {
   "cell_type": "code",
   "execution_count": null,
   "metadata": {},
   "outputs": [],
   "source": []
  },
  {
   "cell_type": "code",
   "execution_count": 4,
   "metadata": {},
   "outputs": [
    {
     "data": {
      "text/plain": [
       "0        59.0\n",
       "1       -20.0\n",
       "2        -1.0\n",
       "3       -18.0\n",
       "4       -15.0\n",
       "         ... \n",
       "99995    -6.0\n",
       "99996    -9.0\n",
       "99997   -18.0\n",
       "99998   -12.0\n",
       "99999    -1.0\n",
       "Name: arr_delay, Length: 98047, dtype: float64"
      ]
     },
     "execution_count": 4,
     "metadata": {},
     "output_type": "execute_result"
    }
   ],
   "source": [
    "#X= pd.read_csv('../Data Prep Files/X.csv', index_col=0)\n",
    "ydf= pd.read_pickle('../Model Fitting Files/y', compression='gzip')\n",
    "ydf"
   ]
  },
  {
   "cell_type": "code",
   "execution_count": 5,
   "metadata": {},
   "outputs": [
    {
     "data": {
      "text/plain": [
       "count    98047.000000\n",
       "mean         5.309199\n",
       "std         49.794934\n",
       "min        -73.000000\n",
       "25%        -15.000000\n",
       "50%         -6.000000\n",
       "75%          8.000000\n",
       "max       2973.000000\n",
       "Name: arr_delay, dtype: float64"
      ]
     },
     "execution_count": 5,
     "metadata": {},
     "output_type": "execute_result"
    }
   ],
   "source": [
    "ydf.describe()"
   ]
  },
  {
   "cell_type": "code",
   "execution_count": 6,
   "metadata": {},
   "outputs": [
    {
     "data": {
      "text/plain": [
       "<AxesSubplot:>"
      ]
     },
     "execution_count": 6,
     "metadata": {},
     "output_type": "execute_result"
    },
    {
     "data": {
      "image/png": "[encoded data removed]",
      "text/plain": [
       "<Figure size 432x288 with 1 Axes>"
      ]
     },
     "metadata": {
      "needs_background": "light"
     },
     "output_type": "display_data"
    }
   ],
   "source": [
    "ydf.hist(bins=[-55+1*i for i in range(180)])"
   ]
  },
  {
   "cell_type": "code",
   "execution_count": 40,
   "metadata": {},
   "outputs": [
    {
     "data": {
      "text/plain": [
       "0        59.0\n",
       "1       -20.0\n",
       "2        -1.0\n",
       "3       -18.0\n",
       "4       -15.0\n",
       "         ... \n",
       "99995    -6.0\n",
       "99996    -9.0\n",
       "99997   -18.0\n",
       "99998   -12.0\n",
       "99999    -1.0\n",
       "Name: arr_delay, Length: 95658, dtype: float64"
      ]
     },
     "execution_count": 40,
     "metadata": {},
     "output_type": "execute_result"
    }
   ],
   "source": [
    "ydf[ydf.between(-50, 125) ]"
   ]
  },
  {
   "cell_type": "code",
   "execution_count": 43,
   "metadata": {
    "collapsed": true,
    "jupyter": {
     "outputs_hidden": true
    }
   },
   "outputs": [
    {
     "data": {
      "text/plain": [
       "[-55,\n",
       " -54,\n",
       " -53,\n",
       " -52,\n",
       " -51,\n",
       " -50,\n",
       " -49,\n",
       " -48,\n",
       " -47,\n",
       " -46,\n",
       " -45,\n",
       " -44,\n",
       " -43,\n",
       " -42,\n",
       " -41,\n",
       " -40,\n",
       " -39,\n",
       " -38,\n",
       " -37,\n",
       " -36,\n",
       " -35,\n",
       " -34,\n",
       " -33,\n",
       " -32,\n",
       " -31,\n",
       " -30,\n",
       " -29,\n",
       " -28,\n",
       " -27,\n",
       " -26,\n",
       " -25,\n",
       " -24,\n",
       " -23,\n",
       " -22,\n",
       " -21,\n",
       " -20,\n",
       " -19,\n",
       " -18,\n",
       " -17,\n",
       " -16,\n",
       " -15,\n",
       " -14,\n",
       " -13,\n",
       " -12,\n",
       " -11,\n",
       " -10,\n",
       " -9,\n",
       " -8,\n",
       " -7,\n",
       " -6,\n",
       " -5,\n",
       " -4,\n",
       " -3,\n",
       " -2,\n",
       " -1,\n",
       " 0,\n",
       " 1,\n",
       " 2,\n",
       " 3,\n",
       " 4,\n",
       " 5,\n",
       " 6,\n",
       " 7,\n",
       " 8,\n",
       " 9,\n",
       " 10,\n",
       " 11,\n",
       " 12,\n",
       " 13,\n",
       " 14,\n",
       " 15,\n",
       " 16,\n",
       " 17,\n",
       " 18,\n",
       " 19,\n",
       " 20,\n",
       " 21,\n",
       " 22,\n",
       " 23,\n",
       " 24,\n",
       " 25,\n",
       " 26,\n",
       " 27,\n",
       " 28,\n",
       " 29,\n",
       " 30,\n",
       " 31,\n",
       " 32,\n",
       " 33,\n",
       " 34,\n",
       " 35,\n",
       " 36,\n",
       " 37,\n",
       " 38,\n",
       " 39,\n",
       " 40,\n",
       " 41,\n",
       " 42,\n",
       " 43,\n",
       " 44,\n",
       " 45,\n",
       " 46,\n",
       " 47,\n",
       " 48,\n",
       " 49,\n",
       " 50,\n",
       " 51,\n",
       " 52,\n",
       " 53,\n",
       " 54,\n",
       " 55,\n",
       " 56,\n",
       " 57,\n",
       " 58,\n",
       " 59,\n",
       " 60,\n",
       " 61,\n",
       " 62,\n",
       " 63,\n",
       " 64,\n",
       " 65,\n",
       " 66,\n",
       " 67,\n",
       " 68,\n",
       " 69,\n",
       " 70,\n",
       " 71,\n",
       " 72,\n",
       " 73,\n",
       " 74,\n",
       " 75,\n",
       " 76,\n",
       " 77,\n",
       " 78,\n",
       " 79,\n",
       " 80,\n",
       " 81,\n",
       " 82,\n",
       " 83,\n",
       " 84,\n",
       " 85,\n",
       " 86,\n",
       " 87,\n",
       " 88,\n",
       " 89,\n",
       " 90,\n",
       " 91,\n",
       " 92,\n",
       " 93,\n",
       " 94,\n",
       " 95,\n",
       " 96,\n",
       " 97,\n",
       " 98,\n",
       " 99,\n",
       " 100,\n",
       " 101,\n",
       " 102,\n",
       " 103,\n",
       " 104,\n",
       " 105,\n",
       " 106,\n",
       " 107,\n",
       " 108,\n",
       " 109,\n",
       " 110,\n",
       " 111,\n",
       " 112,\n",
       " 113,\n",
       " 114,\n",
       " 115,\n",
       " 116,\n",
       " 117,\n",
       " 118,\n",
       " 119,\n",
       " 120,\n",
       " 121,\n",
       " 122,\n",
       " 123,\n",
       " 124]"
      ]
     },
     "execution_count": 43,
     "metadata": {},
     "output_type": "execute_result"
    }
   ],
   "source": [
    "[-55+1*i for i in range(180)]"
   ]
  },
  {
   "cell_type": "code",
   "execution_count": 51,
   "metadata": {},
   "outputs": [],
   "source": [
    "import matplotlib.pyplot as plt"
   ]
  },
  {
   "cell_type": "code",
   "execution_count": 61,
   "metadata": {},
   "outputs": [
    {
     "name": "stderr",
     "output_type": "stream",
     "text": [
      "C:\\Users\\FBI\\anaconda3\\lib\\site-packages\\seaborn\\distributions.py:2551: FutureWarning: `distplot` is a deprecated function and will be removed in a future version. Please adapt your code to use either `displot` (a figure-level function with similar flexibility) or `histplot` (an axes-level function for histograms).\n",
      "  warnings.warn(msg, FutureWarning)\n"
     ]
    },
    {
     "data": {
      "image/png": "[encoded data removed]",
      "text/plain": [
       "<Figure size 1080x576 with 1 Axes>"
      ]
     },
     "metadata": {
      "needs_background": "light"
     },
     "output_type": "display_data"
    }
   ],
   "source": [
    "sb = pd.Series(ydf[ydf.between(-50, 125) ], name=\"Arrival Delay\")\n",
    "\n",
    "fig_dims = (15, 8)\n",
    "fig, ax = plt.subplots(figsize=fig_dims)\n",
    "\n",
    "ax = sns.distplot(sb, bins=[-55+10*i for i in range(18)]).set_title('Distribution of Arrival Delay by Probability Density')"
   ]
  },
  {
   "cell_type": "code",
   "execution_count": 7,
   "metadata": {},
   "outputs": [
    {
     "data": {
      "text/html": [
       "<div>\n",
       "<style scoped>\n",
       "    .dataframe tbody tr th:only-of-type {\n",
       "        vertical-align: middle;\n",
       "    }\n",
       "\n",
       "    .dataframe tbody tr th {\n",
       "        vertical-align: top;\n",
       "    }\n",
       "\n",
       "    .dataframe thead th {\n",
       "        text-align: right;\n",
       "    }\n",
       "</style>\n",
       "<table border=\"1\" class=\"dataframe\">\n",
       "  <thead>\n",
       "    <tr style=\"text-align: right;\">\n",
       "      <th></th>\n",
       "      <th>crs_dep_timeFT</th>\n",
       "      <th>crs_arr_timeFT</th>\n",
       "      <th>crs_elapsed_timeFT</th>\n",
       "      <th>distanceFT</th>\n",
       "      <th>op_unique_carrier</th>\n",
       "      <th>origin</th>\n",
       "      <th>dest</th>\n",
       "      <th>month</th>\n",
       "      <th>dayWeek</th>\n",
       "    </tr>\n",
       "  </thead>\n",
       "  <tbody>\n",
       "    <tr>\n",
       "      <th>0</th>\n",
       "      <td>0.404950</td>\n",
       "      <td>0.475464</td>\n",
       "      <td>-0.252310</td>\n",
       "      <td>-0.371468</td>\n",
       "      <td>0.538777</td>\n",
       "      <td>1.766642</td>\n",
       "      <td>-0.046907</td>\n",
       "      <td>4</td>\n",
       "      <td>0</td>\n",
       "    </tr>\n",
       "    <tr>\n",
       "      <th>1</th>\n",
       "      <td>-1.030286</td>\n",
       "      <td>-1.074137</td>\n",
       "      <td>-0.808416</td>\n",
       "      <td>-0.651979</td>\n",
       "      <td>-0.541576</td>\n",
       "      <td>-1.089924</td>\n",
       "      <td>-0.722955</td>\n",
       "      <td>7</td>\n",
       "      <td>6</td>\n",
       "    </tr>\n",
       "    <tr>\n",
       "      <th>2</th>\n",
       "      <td>-0.825252</td>\n",
       "      <td>0.088064</td>\n",
       "      <td>0.706974</td>\n",
       "      <td>0.748875</td>\n",
       "      <td>0.484104</td>\n",
       "      <td>-1.104809</td>\n",
       "      <td>-0.330836</td>\n",
       "      <td>4</td>\n",
       "      <td>1</td>\n",
       "    </tr>\n",
       "    <tr>\n",
       "      <th>3</th>\n",
       "      <td>0.609983</td>\n",
       "      <td>0.475464</td>\n",
       "      <td>-0.794514</td>\n",
       "      <td>-0.889988</td>\n",
       "      <td>0.484104</td>\n",
       "      <td>0.018107</td>\n",
       "      <td>0.555854</td>\n",
       "      <td>11</td>\n",
       "      <td>2</td>\n",
       "    </tr>\n",
       "    <tr>\n",
       "      <th>4</th>\n",
       "      <td>-0.005118</td>\n",
       "      <td>0.088064</td>\n",
       "      <td>-0.474752</td>\n",
       "      <td>-0.597577</td>\n",
       "      <td>0.210159</td>\n",
       "      <td>-0.329730</td>\n",
       "      <td>1.621178</td>\n",
       "      <td>10</td>\n",
       "      <td>5</td>\n",
       "    </tr>\n",
       "    <tr>\n",
       "      <th>...</th>\n",
       "      <td>...</td>\n",
       "      <td>...</td>\n",
       "      <td>...</td>\n",
       "      <td>...</td>\n",
       "      <td>...</td>\n",
       "      <td>...</td>\n",
       "      <td>...</td>\n",
       "      <td>...</td>\n",
       "      <td>...</td>\n",
       "    </tr>\n",
       "    <tr>\n",
       "      <th>99995</th>\n",
       "      <td>0.404950</td>\n",
       "      <td>0.281764</td>\n",
       "      <td>-0.808416</td>\n",
       "      <td>-0.704681</td>\n",
       "      <td>-0.541576</td>\n",
       "      <td>-0.861272</td>\n",
       "      <td>0.260061</td>\n",
       "      <td>9</td>\n",
       "      <td>1</td>\n",
       "    </tr>\n",
       "    <tr>\n",
       "      <th>99996</th>\n",
       "      <td>1.635151</td>\n",
       "      <td>-2.817438</td>\n",
       "      <td>-0.224504</td>\n",
       "      <td>-0.087557</td>\n",
       "      <td>0.448690</td>\n",
       "      <td>1.766642</td>\n",
       "      <td>3.889518</td>\n",
       "      <td>10</td>\n",
       "      <td>0</td>\n",
       "    </tr>\n",
       "    <tr>\n",
       "      <th>99997</th>\n",
       "      <td>1.020050</td>\n",
       "      <td>1.250264</td>\n",
       "      <td>-0.599876</td>\n",
       "      <td>-0.388469</td>\n",
       "      <td>1.202815</td>\n",
       "      <td>-0.065834</td>\n",
       "      <td>0.349519</td>\n",
       "      <td>1</td>\n",
       "      <td>1</td>\n",
       "    </tr>\n",
       "    <tr>\n",
       "      <th>99998</th>\n",
       "      <td>0.815017</td>\n",
       "      <td>0.862864</td>\n",
       "      <td>-0.766708</td>\n",
       "      <td>-0.925690</td>\n",
       "      <td>0.569946</td>\n",
       "      <td>0.513858</td>\n",
       "      <td>-1.006962</td>\n",
       "      <td>6</td>\n",
       "      <td>1</td>\n",
       "    </tr>\n",
       "    <tr>\n",
       "      <th>99999</th>\n",
       "      <td>0.609983</td>\n",
       "      <td>0.669164</td>\n",
       "      <td>-0.446947</td>\n",
       "      <td>-0.254164</td>\n",
       "      <td>0.214879</td>\n",
       "      <td>-0.448741</td>\n",
       "      <td>-0.943328</td>\n",
       "      <td>7</td>\n",
       "      <td>5</td>\n",
       "    </tr>\n",
       "  </tbody>\n",
       "</table>\n",
       "<p>98047 rows × 9 columns</p>\n",
       "</div>"
      ],
      "text/plain": [
       "       crs_dep_timeFT  crs_arr_timeFT  crs_elapsed_timeFT  distanceFT  \\\n",
       "0            0.404950        0.475464           -0.252310   -0.371468   \n",
       "1           -1.030286       -1.074137           -0.808416   -0.651979   \n",
       "2           -0.825252        0.088064            0.706974    0.748875   \n",
       "3            0.609983        0.475464           -0.794514   -0.889988   \n",
       "4           -0.005118        0.088064           -0.474752   -0.597577   \n",
       "...               ...             ...                 ...         ...   \n",
       "99995        0.404950        0.281764           -0.808416   -0.704681   \n",
       "99996        1.635151       -2.817438           -0.224504   -0.087557   \n",
       "99997        1.020050        1.250264           -0.599876   -0.388469   \n",
       "99998        0.815017        0.862864           -0.766708   -0.925690   \n",
       "99999        0.609983        0.669164           -0.446947   -0.254164   \n",
       "\n",
       "       op_unique_carrier    origin      dest  month  dayWeek  \n",
       "0               0.538777  1.766642 -0.046907      4        0  \n",
       "1              -0.541576 -1.089924 -0.722955      7        6  \n",
       "2               0.484104 -1.104809 -0.330836      4        1  \n",
       "3               0.484104  0.018107  0.555854     11        2  \n",
       "4               0.210159 -0.329730  1.621178     10        5  \n",
       "...                  ...       ...       ...    ...      ...  \n",
       "99995          -0.541576 -0.861272  0.260061      9        1  \n",
       "99996           0.448690  1.766642  3.889518     10        0  \n",
       "99997           1.202815 -0.065834  0.349519      1        1  \n",
       "99998           0.569946  0.513858 -1.006962      6        1  \n",
       "99999           0.214879 -0.448741 -0.943328      7        5  \n",
       "\n",
       "[98047 rows x 9 columns]"
      ]
     },
     "execution_count": 7,
     "metadata": {},
     "output_type": "execute_result"
    }
   ],
   "source": [
    "X"
   ]
  },
  {
   "cell_type": "code",
   "execution_count": 8,
   "metadata": {},
   "outputs": [
    {
     "data": {
      "text/plain": [
       "0        59.0\n",
       "1       -20.0\n",
       "2        -1.0\n",
       "3       -18.0\n",
       "4       -15.0\n",
       "         ... \n",
       "99995    -6.0\n",
       "99996    -9.0\n",
       "99997   -18.0\n",
       "99998   -12.0\n",
       "99999    -1.0\n",
       "Name: arr_delay, Length: 98047, dtype: float64"
      ]
     },
     "execution_count": 8,
     "metadata": {},
     "output_type": "execute_result"
    }
   ],
   "source": [
    "ydf"
   ]
  },
  {
   "cell_type": "code",
   "execution_count": 9,
   "metadata": {},
   "outputs": [],
   "source": [
    "#ydf['y_sign'].isnull().sum()\n",
    "def split_half (y):\n",
    "    #return ((y<8) and (y>-15))*1\n",
    "    return (y<0)*1\n",
    "    #return (y>0) *1\n",
    "    #return (y>8)*1\n",
    "\n",
    "# def set_bins(y):\n",
    "#     return \n",
    "\n",
    "y=pd.cut(ydf, bins=[-100,0,1000000], labels=False)"
   ]
  },
  {
   "cell_type": "code",
   "execution_count": 10,
   "metadata": {},
   "outputs": [
    {
     "data": {
      "text/plain": [
       "0        59.0\n",
       "1       -20.0\n",
       "2        -1.0\n",
       "3       -18.0\n",
       "4       -15.0\n",
       "         ... \n",
       "99995    -6.0\n",
       "99996    -9.0\n",
       "99997   -18.0\n",
       "99998   -12.0\n",
       "99999    -1.0\n",
       "Name: arr_delay, Length: 98047, dtype: float64"
      ]
     },
     "execution_count": 10,
     "metadata": {},
     "output_type": "execute_result"
    }
   ],
   "source": [
    "ydf"
   ]
  },
  {
   "cell_type": "code",
   "execution_count": 11,
   "metadata": {},
   "outputs": [
    {
     "data": {
      "text/plain": [
       "0        0\n",
       "1        1\n",
       "2        1\n",
       "3        1\n",
       "4        1\n",
       "        ..\n",
       "99995    1\n",
       "99996    1\n",
       "99997    1\n",
       "99998    1\n",
       "99999    1\n",
       "Name: arr_delay, Length: 98047, dtype: int64"
      ]
     },
     "execution_count": 11,
     "metadata": {},
     "output_type": "execute_result"
    }
   ],
   "source": [
    "ydf.apply(split_half)"
   ]
  },
  {
   "cell_type": "code",
   "execution_count": 12,
   "metadata": {},
   "outputs": [],
   "source": [
    "#df=pd.concat([X,pd.cut(ydf, bins=[-100,-7,10000000], labels=False)], axis=1).dropna()\n",
    "df=pd.concat([X,ydf.apply(split_half)], axis=1).dropna()\n",
    "X=df.iloc[:,:-2]\n",
    "y=df.iloc[:,-1]"
   ]
  },
  {
   "cell_type": "code",
   "execution_count": 13,
   "metadata": {},
   "outputs": [
    {
     "data": {
      "text/plain": [
       "0        0\n",
       "1        1\n",
       "2        1\n",
       "3        1\n",
       "4        1\n",
       "        ..\n",
       "99995    1\n",
       "99996    1\n",
       "99997    1\n",
       "99998    1\n",
       "99999    1\n",
       "Name: arr_delay, Length: 98047, dtype: int64"
      ]
     },
     "execution_count": 13,
     "metadata": {},
     "output_type": "execute_result"
    }
   ],
   "source": [
    "y"
   ]
  },
  {
   "cell_type": "code",
   "execution_count": 14,
   "metadata": {},
   "outputs": [],
   "source": [
    "from sklearn.model_selection import train_test_split\n",
    "X_train,X_test,y_train,y_test=train_test_split(X,y,test_size=0.3,random_state=1)"
   ]
  },
  {
   "cell_type": "code",
   "execution_count": 15,
   "metadata": {},
   "outputs": [
    {
     "name": "stderr",
     "output_type": "stream",
     "text": [
      "C:\\Users\\FBI\\anaconda3\\lib\\site-packages\\xgboost\\sklearn.py:888: UserWarning: The use of label encoder in XGBClassifier is deprecated and will be removed in a future release. To remove this warning, do the following: 1) Pass option use_label_encoder=False when constructing XGBClassifier object; and 2) Encode your labels (y) as integers starting with 0, i.e. 0, 1, 2, ..., [num_class - 1].\n",
      "  warnings.warn(label_encoder_deprecation_msg, UserWarning)\n"
     ]
    },
    {
     "name": "stdout",
     "output_type": "stream",
     "text": [
      "[14:58:31] WARNING: C:/Users/Administrator/workspace/xgboost-win64_release_1.3.0/src/learner.cc:1061: Starting in XGBoost 1.3.0, the default evaluation metric used with the objective 'binary:logistic' was changed from 'error' to 'logloss'. Explicitly set eval_metric if you'd like to restore the old behavior.\n"
     ]
    }
   ],
   "source": [
    "# from sklearn.naive_bayes import GaussianNB\n",
    "# gnb = GaussianNB()\n",
    "# gnb.fit(X_train, y_train)\n",
    "# y_pred= gnb.predict(X_test)\n",
    "\n",
    "from xgboost import XGBClassifier\n",
    "xgboost = XGBClassifier()#n_estimators=100,learning_rate=0.1,reg_alpha=8)\n",
    "xgboost.fit(X_train, y_train)\n",
    "y_pred= xgboost.predict(X_test)"
   ]
  },
  {
   "cell_type": "code",
   "execution_count": 16,
   "metadata": {},
   "outputs": [],
   "source": [
    "analysisDF=pd.DataFrame(xgboost.predict_proba(X_test), index=y_test.index)"
   ]
  },
  {
   "cell_type": "code",
   "execution_count": 17,
   "metadata": {},
   "outputs": [
    {
     "data": {
      "text/html": [
       "<div>\n",
       "<style scoped>\n",
       "    .dataframe tbody tr th:only-of-type {\n",
       "        vertical-align: middle;\n",
       "    }\n",
       "\n",
       "    .dataframe tbody tr th {\n",
       "        vertical-align: top;\n",
       "    }\n",
       "\n",
       "    .dataframe thead th {\n",
       "        text-align: right;\n",
       "    }\n",
       "</style>\n",
       "<table border=\"1\" class=\"dataframe\">\n",
       "  <thead>\n",
       "    <tr style=\"text-align: right;\">\n",
       "      <th></th>\n",
       "      <th>0</th>\n",
       "      <th>1</th>\n",
       "    </tr>\n",
       "  </thead>\n",
       "  <tbody>\n",
       "    <tr>\n",
       "      <th>38092</th>\n",
       "      <td>0.221292</td>\n",
       "      <td>0.778708</td>\n",
       "    </tr>\n",
       "    <tr>\n",
       "      <th>47992</th>\n",
       "      <td>0.488545</td>\n",
       "      <td>0.511455</td>\n",
       "    </tr>\n",
       "    <tr>\n",
       "      <th>21508</th>\n",
       "      <td>0.347490</td>\n",
       "      <td>0.652510</td>\n",
       "    </tr>\n",
       "    <tr>\n",
       "      <th>85880</th>\n",
       "      <td>0.315993</td>\n",
       "      <td>0.684007</td>\n",
       "    </tr>\n",
       "    <tr>\n",
       "      <th>20230</th>\n",
       "      <td>0.656388</td>\n",
       "      <td>0.343612</td>\n",
       "    </tr>\n",
       "    <tr>\n",
       "      <th>...</th>\n",
       "      <td>...</td>\n",
       "      <td>...</td>\n",
       "    </tr>\n",
       "    <tr>\n",
       "      <th>5799</th>\n",
       "      <td>0.405755</td>\n",
       "      <td>0.594245</td>\n",
       "    </tr>\n",
       "    <tr>\n",
       "      <th>45985</th>\n",
       "      <td>0.321081</td>\n",
       "      <td>0.678919</td>\n",
       "    </tr>\n",
       "    <tr>\n",
       "      <th>6656</th>\n",
       "      <td>0.454115</td>\n",
       "      <td>0.545885</td>\n",
       "    </tr>\n",
       "    <tr>\n",
       "      <th>38057</th>\n",
       "      <td>0.336772</td>\n",
       "      <td>0.663228</td>\n",
       "    </tr>\n",
       "    <tr>\n",
       "      <th>14390</th>\n",
       "      <td>0.310058</td>\n",
       "      <td>0.689942</td>\n",
       "    </tr>\n",
       "  </tbody>\n",
       "</table>\n",
       "<p>29415 rows × 2 columns</p>\n",
       "</div>"
      ],
      "text/plain": [
       "              0         1\n",
       "38092  0.221292  0.778708\n",
       "47992  0.488545  0.511455\n",
       "21508  0.347490  0.652510\n",
       "85880  0.315993  0.684007\n",
       "20230  0.656388  0.343612\n",
       "...         ...       ...\n",
       "5799   0.405755  0.594245\n",
       "45985  0.321081  0.678919\n",
       "6656   0.454115  0.545885\n",
       "38057  0.336772  0.663228\n",
       "14390  0.310058  0.689942\n",
       "\n",
       "[29415 rows x 2 columns]"
      ]
     },
     "execution_count": 17,
     "metadata": {},
     "output_type": "execute_result"
    }
   ],
   "source": [
    "analysisDF"
   ]
  },
  {
   "cell_type": "code",
   "execution_count": 18,
   "metadata": {},
   "outputs": [
    {
     "data": {
      "text/html": [
       "<div>\n",
       "<style scoped>\n",
       "    .dataframe tbody tr th:only-of-type {\n",
       "        vertical-align: middle;\n",
       "    }\n",
       "\n",
       "    .dataframe tbody tr th {\n",
       "        vertical-align: top;\n",
       "    }\n",
       "\n",
       "    .dataframe thead th {\n",
       "        text-align: right;\n",
       "    }\n",
       "</style>\n",
       "<table border=\"1\" class=\"dataframe\">\n",
       "  <thead>\n",
       "    <tr style=\"text-align: right;\">\n",
       "      <th></th>\n",
       "      <th>0</th>\n",
       "      <th>1</th>\n",
       "    </tr>\n",
       "  </thead>\n",
       "  <tbody>\n",
       "    <tr>\n",
       "      <th>40779</th>\n",
       "      <td>0.829378</td>\n",
       "      <td>0.170622</td>\n",
       "    </tr>\n",
       "    <tr>\n",
       "      <th>77963</th>\n",
       "      <td>0.843262</td>\n",
       "      <td>0.156738</td>\n",
       "    </tr>\n",
       "    <tr>\n",
       "      <th>60411</th>\n",
       "      <td>0.811580</td>\n",
       "      <td>0.188420</td>\n",
       "    </tr>\n",
       "    <tr>\n",
       "      <th>55856</th>\n",
       "      <td>0.835520</td>\n",
       "      <td>0.164480</td>\n",
       "    </tr>\n",
       "    <tr>\n",
       "      <th>67385</th>\n",
       "      <td>0.844981</td>\n",
       "      <td>0.155019</td>\n",
       "    </tr>\n",
       "    <tr>\n",
       "      <th>...</th>\n",
       "      <td>...</td>\n",
       "      <td>...</td>\n",
       "    </tr>\n",
       "    <tr>\n",
       "      <th>41320</th>\n",
       "      <td>0.834421</td>\n",
       "      <td>0.165579</td>\n",
       "    </tr>\n",
       "    <tr>\n",
       "      <th>18039</th>\n",
       "      <td>0.845876</td>\n",
       "      <td>0.154124</td>\n",
       "    </tr>\n",
       "    <tr>\n",
       "      <th>4440</th>\n",
       "      <td>0.928483</td>\n",
       "      <td>0.071517</td>\n",
       "    </tr>\n",
       "    <tr>\n",
       "      <th>47184</th>\n",
       "      <td>0.820312</td>\n",
       "      <td>0.179688</td>\n",
       "    </tr>\n",
       "    <tr>\n",
       "      <th>28454</th>\n",
       "      <td>0.841080</td>\n",
       "      <td>0.158920</td>\n",
       "    </tr>\n",
       "  </tbody>\n",
       "</table>\n",
       "<p>73 rows × 2 columns</p>\n",
       "</div>"
      ],
      "text/plain": [
       "              0         1\n",
       "40779  0.829378  0.170622\n",
       "77963  0.843262  0.156738\n",
       "60411  0.811580  0.188420\n",
       "55856  0.835520  0.164480\n",
       "67385  0.844981  0.155019\n",
       "...         ...       ...\n",
       "41320  0.834421  0.165579\n",
       "18039  0.845876  0.154124\n",
       "4440   0.928483  0.071517\n",
       "47184  0.820312  0.179688\n",
       "28454  0.841080  0.158920\n",
       "\n",
       "[73 rows x 2 columns]"
      ]
     },
     "execution_count": 18,
     "metadata": {},
     "output_type": "execute_result"
    }
   ],
   "source": [
    "analysisDF.loc[analysisDF[0]>0.8]"
   ]
  },
  {
   "cell_type": "code",
   "execution_count": 19,
   "metadata": {},
   "outputs": [],
   "source": [
    "analysisDF['yTrue']=y_test\n",
    "analysisDF['yPred']=y_pred"
   ]
  },
  {
   "cell_type": "code",
   "execution_count": 20,
   "metadata": {},
   "outputs": [
    {
     "name": "stdout",
     "output_type": "stream",
     "text": [
      "0.6963952675136962\n",
      "0.6372938976712562\n"
     ]
    }
   ],
   "source": [
    "# from sklearn import metrics \n",
    "# print(metrics.r2_score(y_test, y_pred))\n",
    "print(xgboost.score(X_train,y_train))\n",
    "print(xgboost.score(X_test,y_test))"
   ]
  },
  {
   "cell_type": "code",
   "execution_count": 21,
   "metadata": {},
   "outputs": [
    {
     "data": {
      "text/plain": [
       "<function print>"
      ]
     },
     "execution_count": 21,
     "metadata": {},
     "output_type": "execute_result"
    }
   ],
   "source": [
    "print"
   ]
  },
  {
   "cell_type": "code",
   "execution_count": 22,
   "metadata": {},
   "outputs": [
    {
     "name": "stdout",
     "output_type": "stream",
     "text": [
      "[[ 2353  8396]\n",
      " [ 2273 16393]]\n",
      "0.6613013836782444\n",
      "0.8782277938497803\n"
     ]
    }
   ],
   "source": [
    "from sklearn.metrics import classification_report, confusion_matrix, accuracy_score, roc_auc_score\n",
    "from sklearn.metrics import precision_score,recall_score\n",
    "print(confusion_matrix(y_test,y_pred))\n",
    "print(precision_score(y_test,y_pred))#, average='binary'))\n",
    "print(recall_score(y_test,y_pred))#, average='binary'))"
   ]
  },
  {
   "cell_type": "code",
   "execution_count": 23,
   "metadata": {},
   "outputs": [
    {
     "data": {
      "text/plain": [
       "29415"
      ]
     },
     "execution_count": 23,
     "metadata": {},
     "output_type": "execute_result"
    }
   ],
   "source": [
    "len(y_pred)"
   ]
  },
  {
   "cell_type": "code",
   "execution_count": 24,
   "metadata": {},
   "outputs": [
    {
     "name": "stdout",
     "output_type": "stream",
     "text": [
      "0.6372938976712562\n"
     ]
    }
   ],
   "source": [
    "print(accuracy_score(y_test,y_pred))"
   ]
  },
  {
   "cell_type": "code",
   "execution_count": 25,
   "metadata": {},
   "outputs": [
    {
     "data": {
      "text/plain": [
       "Int64Index([38092, 47992, 21508, 85880, 20230, 98850, 20342, 33565, 93140,\n",
       "            18088,\n",
       "            ...\n",
       "            81837, 53295, 52959, 75984, 58123,  5799, 45985,  6656, 38057,\n",
       "            14390],\n",
       "           dtype='int64', length=29415)"
      ]
     },
     "execution_count": 25,
     "metadata": {},
     "output_type": "execute_result"
    }
   ],
   "source": [
    "y_test.index"
   ]
  },
  {
   "cell_type": "code",
   "execution_count": null,
   "metadata": {},
   "outputs": [],
   "source": []
  },
  {
   "cell_type": "code",
   "execution_count": 26,
   "metadata": {},
   "outputs": [],
   "source": [
    "tp=[]\n",
    "tn=[]\n",
    "fn=[]\n",
    "fp=[]\n",
    "for i,j,k in zip(y_test,y_pred, y_test.index):\n",
    "    if i==0:\n",
    "        if j==0:\n",
    "            tn.append(ydf[k])\n",
    "        else:\n",
    "            fp.append(ydf[k])\n",
    "    else:\n",
    "        if j==0:\n",
    "            fn.append(ydf[k])\n",
    "        else:\n",
    "            tp.append(ydf[k])\n",
    "            "
   ]
  },
  {
   "cell_type": "code",
   "execution_count": 27,
   "metadata": {},
   "outputs": [
    {
     "data": {
      "text/plain": [
       "(16393, 2353, 2273, 8396)"
      ]
     },
     "execution_count": 27,
     "metadata": {},
     "output_type": "execute_result"
    }
   ],
   "source": [
    "len(tp), len(tn), len(fn), len(fp)"
   ]
  },
  {
   "cell_type": "code",
   "execution_count": 28,
   "metadata": {},
   "outputs": [
    {
     "data": {
      "text/plain": [
       "(count    16393.000000\n",
       " mean       -13.653755\n",
       " std          8.441755\n",
       " min        -71.000000\n",
       " 25%        -19.000000\n",
       " 50%        -13.000000\n",
       " 75%         -7.000000\n",
       " max         -1.000000\n",
       " dtype: float64,\n",
       " count    2353.000000\n",
       " mean       42.508287\n",
       " std        67.058705\n",
       " min         0.000000\n",
       " 25%         8.000000\n",
       " 50%        21.000000\n",
       " 75%        52.000000\n",
       " max      1128.000000\n",
       " dtype: float64,\n",
       " count    2273.000000\n",
       " mean      -12.820062\n",
       " std         8.331686\n",
       " min       -46.000000\n",
       " 25%       -18.000000\n",
       " 50%       -12.000000\n",
       " 75%        -6.000000\n",
       " max        -1.000000\n",
       " dtype: float64,\n",
       " count    8396.000000\n",
       " mean       36.832658\n",
       " std        72.121977\n",
       " min         0.000000\n",
       " 25%         5.000000\n",
       " 50%        14.000000\n",
       " 75%        39.000000\n",
       " max      1174.000000\n",
       " dtype: float64)"
      ]
     },
     "execution_count": 28,
     "metadata": {},
     "output_type": "execute_result"
    }
   ],
   "source": [
    "(pd.Series(tp).describe(),\n",
    "pd.Series(tn).describe(),\n",
    "pd.Series(fn).describe(),\n",
    "pd.Series(fp).describe())"
   ]
  },
  {
   "cell_type": "code",
   "execution_count": 29,
   "metadata": {},
   "outputs": [
    {
     "data": {
      "text/plain": [
       "count    24789.000000\n",
       "mean         3.445924\n",
       "std         48.781963\n",
       "min        -71.000000\n",
       "25%        -15.000000\n",
       "50%         -7.000000\n",
       "75%          5.000000\n",
       "max       1174.000000\n",
       "dtype: float64"
      ]
     },
     "execution_count": 29,
     "metadata": {},
     "output_type": "execute_result"
    }
   ],
   "source": [
    "pd.Series(tp+fp).describe()"
   ]
  },
  {
   "cell_type": "code",
   "execution_count": 30,
   "metadata": {},
   "outputs": [
    {
     "data": {
      "text/plain": [
       "count    4626.000000\n",
       "mean       15.322525\n",
       "std        55.553437\n",
       "min       -46.000000\n",
       "25%       -11.000000\n",
       "50%         0.000000\n",
       "75%        22.000000\n",
       "max      1128.000000\n",
       "dtype: float64"
      ]
     },
     "execution_count": 30,
     "metadata": {},
     "output_type": "execute_result"
    }
   ],
   "source": [
    "pd.Series(tn+fn).describe()"
   ]
  },
  {
   "cell_type": "code",
   "execution_count": 31,
   "metadata": {},
   "outputs": [
    {
     "data": {
      "text/plain": [
       "0.6613013836782444"
      ]
     },
     "execution_count": 31,
     "metadata": {},
     "output_type": "execute_result"
    }
   ],
   "source": [
    "from sklearn.metrics import precision_score\n",
    "precision_score(y_test,y_pred, average='binary')"
   ]
  },
  {
   "cell_type": "code",
   "execution_count": 32,
   "metadata": {},
   "outputs": [
    {
     "data": {
      "text/plain": [
       "0.8782277938497803"
      ]
     },
     "execution_count": 32,
     "metadata": {},
     "output_type": "execute_result"
    }
   ],
   "source": [
    "from sklearn.metrics import recall_score\n",
    "recall_score(y_test,y_pred, average='binary')"
   ]
  },
  {
   "cell_type": "code",
   "execution_count": null,
   "metadata": {},
   "outputs": [],
   "source": []
  }
 ],
 "metadata": {
  "kernelspec": {
   "display_name": "Python 3",
   "language": "python",
   "name": "python3"
  },
  "language_info": {
   "codemirror_mode": {
    "name": "ipython",
    "version": 3
   },
   "file_extension": ".py",
   "mimetype": "text/x-python",
   "name": "python",
   "nbconvert_exporter": "python",
   "pygments_lexer": "ipython3",
   "version": "3.8.5"
  }
 },
 "nbformat": 4,
 "nbformat_minor": 4
}
