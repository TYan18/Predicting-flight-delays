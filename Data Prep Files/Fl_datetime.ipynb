{
 "cells": [
  {
   "cell_type": "code",
   "execution_count": 1,
   "metadata": {},
   "outputs": [],
   "source": [
    "from flightFunc import txt_to_df, replaceObjectsWithNums, replace_fl_date_with_num, addXGBClsfPred\n",
    "import numpy as np\n",
    "import pandas as pd\n",
    "from sklearn.preprocessing import StandardScaler, MinMaxScaler"
   ]
  },
  {
   "cell_type": "code",
   "execution_count": 2,
   "metadata": {},
   "outputs": [
    {
     "name": "stderr",
     "output_type": "stream",
     "text": [
      "C:\\Users\\titan\\Anaconda3\\lib\\site-packages\\pandas\\core\\indexing.py:1047: SettingWithCopyWarning: \n",
      "A value is trying to be set on a copy of a slice from a DataFrame.\n",
      "Try using .loc[row_indexer,col_indexer] = value instead\n",
      "\n",
      "See the caveats in the documentation: https://pandas.pydata.org/pandas-docs/stable/user_guide/indexing.html#returning-a-view-versus-a-copy\n",
      "  self.obj[item_labels[indexer[info_axis]]] = value\n",
      "C:\\Users\\titan\\Lighthouse-Labs\\w6\\lighthouse-labs-midterm\\Data Prep Files\\flightFunc.py:55: SettingWithCopyWarning: \n",
      "A value is trying to be set on a copy of a slice from a DataFrame.\n",
      "Try using .loc[row_indexer,col_indexer] = value instead\n",
      "\n",
      "See the caveats in the documentation: https://pandas.pydata.org/pandas-docs/stable/user_guide/indexing.html#returning-a-view-versus-a-copy\n",
      "  dfObjects['fl_date'] = pd.to_datetime(dfObjects['fl_date'])\n"
     ]
    }
   ],
   "source": [
    "X, y = txt_to_df('FlightRows100000.txt', StandardScaler())"
   ]
  },
  {
   "cell_type": "code",
   "execution_count": 3,
   "metadata": {},
   "outputs": [],
   "source": [
    "X = replaceObjectsWithNums(X, StandardScaler())"
   ]
  },
  {
   "cell_type": "code",
   "execution_count": 6,
   "metadata": {},
   "outputs": [],
   "source": [
    "X.to_pickle('X_fl_datetime', compression = 'gzip')"
   ]
  },
  {
   "cell_type": "code",
   "execution_count": 7,
   "metadata": {},
   "outputs": [
    {
     "name": "stderr",
     "output_type": "stream",
     "text": [
      "C:\\Users\\titan\\Anaconda3\\lib\\site-packages\\pandas\\core\\indexing.py:1047: SettingWithCopyWarning: \n",
      "A value is trying to be set on a copy of a slice from a DataFrame.\n",
      "Try using .loc[row_indexer,col_indexer] = value instead\n",
      "\n",
      "See the caveats in the documentation: https://pandas.pydata.org/pandas-docs/stable/user_guide/indexing.html#returning-a-view-versus-a-copy\n",
      "  self.obj[item_labels[indexer[info_axis]]] = value\n",
      "C:\\Users\\titan\\Lighthouse-Labs\\w6\\lighthouse-labs-midterm\\Data Prep Files\\flightFunc.py:55: SettingWithCopyWarning: \n",
      "A value is trying to be set on a copy of a slice from a DataFrame.\n",
      "Try using .loc[row_indexer,col_indexer] = value instead\n",
      "\n",
      "See the caveats in the documentation: https://pandas.pydata.org/pandas-docs/stable/user_guide/indexing.html#returning-a-view-versus-a-copy\n",
      "  dfObjects['fl_date'] = pd.to_datetime(dfObjects['fl_date'])\n"
     ]
    }
   ],
   "source": [
    "X, y = txt_to_df('FlightRows100000.txt', MinMaxScaler())\n",
    "X = replaceObjectsWithNums(X, MinMaxScaler())\n",
    "X.to_pickle('X_fl_datetime_minmax', compression = 'gzip')"
   ]
  },
  {
   "cell_type": "code",
   "execution_count": 10,
   "metadata": {},
   "outputs": [
    {
     "name": "stderr",
     "output_type": "stream",
     "text": [
      "C:\\Users\\titan\\Anaconda3\\lib\\site-packages\\pandas\\core\\indexing.py:1047: SettingWithCopyWarning: \n",
      "A value is trying to be set on a copy of a slice from a DataFrame.\n",
      "Try using .loc[row_indexer,col_indexer] = value instead\n",
      "\n",
      "See the caveats in the documentation: https://pandas.pydata.org/pandas-docs/stable/user_guide/indexing.html#returning-a-view-versus-a-copy\n",
      "  self.obj[item_labels[indexer[info_axis]]] = value\n",
      "C:\\Users\\titan\\Lighthouse-Labs\\w6\\lighthouse-labs-midterm\\Data Prep Files\\flightFunc.py:55: SettingWithCopyWarning: \n",
      "A value is trying to be set on a copy of a slice from a DataFrame.\n",
      "Try using .loc[row_indexer,col_indexer] = value instead\n",
      "\n",
      "See the caveats in the documentation: https://pandas.pydata.org/pandas-docs/stable/user_guide/indexing.html#returning-a-view-versus-a-copy\n",
      "  dfObjects['fl_date'] = pd.to_datetime(dfObjects['fl_date'])\n"
     ]
    }
   ],
   "source": [
    "X_all_dummy, y = txt_to_df('FlightRows100000.txt', StandardScaler(), make_dum = True)"
   ]
  },
  {
   "cell_type": "code",
   "execution_count": 16,
   "metadata": {},
   "outputs": [
    {
     "data": {
      "text/plain": [
       "crs_dep_timeFT               float64\n",
       "crs_arr_timeFT               float64\n",
       "crs_elapsed_timeFT           float64\n",
       "distanceFT                   float64\n",
       "fl_date               datetime64[ns]\n",
       "                           ...      \n",
       "dest_XNA                       uint8\n",
       "dest_XWA                       uint8\n",
       "dest_YAK                       uint8\n",
       "dest_YKM                       uint8\n",
       "dest_YUM                       uint8\n",
       "Length: 771, dtype: object"
      ]
     },
     "execution_count": 16,
     "metadata": {},
     "output_type": "execute_result"
    }
   ],
   "source": [
    "X_all_dummy.dtypes"
   ]
  },
  {
   "cell_type": "code",
   "execution_count": 17,
   "metadata": {},
   "outputs": [],
   "source": [
    "X_all_dummy.to_pickle('X_all_dummy', compression = 'gzip')"
   ]
  },
  {
   "cell_type": "code",
   "execution_count": 2,
   "metadata": {},
   "outputs": [
    {
     "name": "stderr",
     "output_type": "stream",
     "text": [
      "C:\\Users\\titan\\Anaconda3\\lib\\site-packages\\pandas\\core\\indexing.py:1047: SettingWithCopyWarning: \n",
      "A value is trying to be set on a copy of a slice from a DataFrame.\n",
      "Try using .loc[row_indexer,col_indexer] = value instead\n",
      "\n",
      "See the caveats in the documentation: https://pandas.pydata.org/pandas-docs/stable/user_guide/indexing.html#returning-a-view-versus-a-copy\n",
      "  self.obj[item_labels[indexer[info_axis]]] = value\n",
      "C:\\Users\\titan\\Lighthouse-Labs\\w6\\lighthouse-labs-midterm\\Data Prep Files\\flightFunc.py:57: SettingWithCopyWarning: \n",
      "A value is trying to be set on a copy of a slice from a DataFrame.\n",
      "Try using .loc[row_indexer,col_indexer] = value instead\n",
      "\n",
      "See the caveats in the documentation: https://pandas.pydata.org/pandas-docs/stable/user_guide/indexing.html#returning-a-view-versus-a-copy\n",
      "  dfObjects['fl_date'] = pd.to_datetime(dfObjects['fl_date'])\n"
     ]
    }
   ],
   "source": [
    "X, y = txt_to_df('FlightRows100000.txt', StandardScaler())"
   ]
  },
  {
   "cell_type": "code",
   "execution_count": 3,
   "metadata": {},
   "outputs": [],
   "source": [
    "X = replaceObjectsWithNums(X, StandardScaler())"
   ]
  },
  {
   "cell_type": "code",
   "execution_count": 4,
   "metadata": {},
   "outputs": [],
   "source": [
    "X = replace_fl_date_with_num(X)"
   ]
  },
  {
   "cell_type": "code",
   "execution_count": 10,
   "metadata": {},
   "outputs": [
    {
     "data": {
      "text/plain": [
       "crs_dep_timeFT        float64\n",
       "crs_arr_timeFT        float64\n",
       "crs_elapsed_timeFT    float64\n",
       "distanceFT            float64\n",
       "op_unique_carrier     float64\n",
       "origin                float64\n",
       "dest                  float64\n",
       "month                   int64\n",
       "dayWeek                 int64\n",
       "dtype: object"
      ]
     },
     "execution_count": 10,
     "metadata": {},
     "output_type": "execute_result"
    }
   ],
   "source": [
    "X.dtypes"
   ]
  },
  {
   "cell_type": "code",
   "execution_count": 9,
   "metadata": {},
   "outputs": [
    {
     "data": {
      "text/plain": [
       "0        1\n",
       "1        0\n",
       "2        0\n",
       "3        0\n",
       "4        0\n",
       "        ..\n",
       "99995    0\n",
       "99996    0\n",
       "99997    0\n",
       "99998    0\n",
       "99999    0\n",
       "Name: arr_delay, Length: 98047, dtype: int64"
      ]
     },
     "execution_count": 9,
     "metadata": {},
     "output_type": "execute_result"
    }
   ],
   "source": [
    "y_cat = y.apply(lambda x: (x>0)*1)\n",
    "y_cat"
   ]
  },
  {
   "cell_type": "code",
   "execution_count": 11,
   "metadata": {},
   "outputs": [
    {
     "name": "stderr",
     "output_type": "stream",
     "text": [
      "C:\\Users\\titan\\Anaconda3\\lib\\site-packages\\xgboost\\sklearn.py:888: UserWarning: The use of label encoder in XGBClassifier is deprecated and will be removed in a future release. To remove this warning, do the following: 1) Pass option use_label_encoder=False when constructing XGBClassifier object; and 2) Encode your labels (y) as integers starting with 0, i.e. 0, 1, 2, ..., [num_class - 1].\n",
      "  warnings.warn(label_encoder_deprecation_msg, UserWarning)\n"
     ]
    },
    {
     "name": "stdout",
     "output_type": "stream",
     "text": [
      "[19:39:21] WARNING: C:/Users/Administrator/workspace/xgboost-win64_release_1.3.0/src/learner.cc:1061: Starting in XGBoost 1.3.0, the default evaluation metric used with the objective 'binary:logistic' was changed from 'error' to 'logloss'. Explicitly set eval_metric if you'd like to restore the old behavior.\n"
     ]
    },
    {
     "data": {
      "text/html": [
       "<div>\n",
       "<style scoped>\n",
       "    .dataframe tbody tr th:only-of-type {\n",
       "        vertical-align: middle;\n",
       "    }\n",
       "\n",
       "    .dataframe tbody tr th {\n",
       "        vertical-align: top;\n",
       "    }\n",
       "\n",
       "    .dataframe thead th {\n",
       "        text-align: right;\n",
       "    }\n",
       "</style>\n",
       "<table border=\"1\" class=\"dataframe\">\n",
       "  <thead>\n",
       "    <tr style=\"text-align: right;\">\n",
       "      <th></th>\n",
       "      <th>crs_dep_timeFT</th>\n",
       "      <th>crs_arr_timeFT</th>\n",
       "      <th>crs_elapsed_timeFT</th>\n",
       "      <th>distanceFT</th>\n",
       "      <th>op_unique_carrier</th>\n",
       "      <th>origin</th>\n",
       "      <th>dest</th>\n",
       "      <th>month</th>\n",
       "      <th>dayWeek</th>\n",
       "      <th>xgbPred</th>\n",
       "    </tr>\n",
       "  </thead>\n",
       "  <tbody>\n",
       "    <tr>\n",
       "      <th>0</th>\n",
       "      <td>0.404950</td>\n",
       "      <td>0.475464</td>\n",
       "      <td>-0.252310</td>\n",
       "      <td>-0.371468</td>\n",
       "      <td>0.538777</td>\n",
       "      <td>1.766642</td>\n",
       "      <td>-0.046907</td>\n",
       "      <td>4</td>\n",
       "      <td>0</td>\n",
       "      <td>0</td>\n",
       "    </tr>\n",
       "    <tr>\n",
       "      <th>1</th>\n",
       "      <td>-1.030286</td>\n",
       "      <td>-1.074137</td>\n",
       "      <td>-0.808416</td>\n",
       "      <td>-0.651979</td>\n",
       "      <td>-0.541576</td>\n",
       "      <td>-1.089924</td>\n",
       "      <td>-0.722955</td>\n",
       "      <td>7</td>\n",
       "      <td>6</td>\n",
       "      <td>0</td>\n",
       "    </tr>\n",
       "    <tr>\n",
       "      <th>2</th>\n",
       "      <td>-0.825252</td>\n",
       "      <td>0.088064</td>\n",
       "      <td>0.706974</td>\n",
       "      <td>0.748875</td>\n",
       "      <td>0.484104</td>\n",
       "      <td>-1.104809</td>\n",
       "      <td>-0.330836</td>\n",
       "      <td>4</td>\n",
       "      <td>1</td>\n",
       "      <td>0</td>\n",
       "    </tr>\n",
       "    <tr>\n",
       "      <th>3</th>\n",
       "      <td>0.609983</td>\n",
       "      <td>0.475464</td>\n",
       "      <td>-0.794514</td>\n",
       "      <td>-0.889988</td>\n",
       "      <td>0.484104</td>\n",
       "      <td>0.018107</td>\n",
       "      <td>0.555854</td>\n",
       "      <td>11</td>\n",
       "      <td>2</td>\n",
       "      <td>0</td>\n",
       "    </tr>\n",
       "    <tr>\n",
       "      <th>4</th>\n",
       "      <td>-0.005118</td>\n",
       "      <td>0.088064</td>\n",
       "      <td>-0.474752</td>\n",
       "      <td>-0.597577</td>\n",
       "      <td>0.210159</td>\n",
       "      <td>-0.329730</td>\n",
       "      <td>1.621178</td>\n",
       "      <td>10</td>\n",
       "      <td>5</td>\n",
       "      <td>0</td>\n",
       "    </tr>\n",
       "    <tr>\n",
       "      <th>...</th>\n",
       "      <td>...</td>\n",
       "      <td>...</td>\n",
       "      <td>...</td>\n",
       "      <td>...</td>\n",
       "      <td>...</td>\n",
       "      <td>...</td>\n",
       "      <td>...</td>\n",
       "      <td>...</td>\n",
       "      <td>...</td>\n",
       "      <td>...</td>\n",
       "    </tr>\n",
       "    <tr>\n",
       "      <th>99995</th>\n",
       "      <td>0.404950</td>\n",
       "      <td>0.281764</td>\n",
       "      <td>-0.808416</td>\n",
       "      <td>-0.704681</td>\n",
       "      <td>-0.541576</td>\n",
       "      <td>-0.861272</td>\n",
       "      <td>0.260061</td>\n",
       "      <td>9</td>\n",
       "      <td>1</td>\n",
       "      <td>0</td>\n",
       "    </tr>\n",
       "    <tr>\n",
       "      <th>99996</th>\n",
       "      <td>1.635151</td>\n",
       "      <td>-2.817438</td>\n",
       "      <td>-0.224504</td>\n",
       "      <td>-0.087557</td>\n",
       "      <td>0.448690</td>\n",
       "      <td>1.766642</td>\n",
       "      <td>3.889518</td>\n",
       "      <td>10</td>\n",
       "      <td>0</td>\n",
       "      <td>0</td>\n",
       "    </tr>\n",
       "    <tr>\n",
       "      <th>99997</th>\n",
       "      <td>1.020050</td>\n",
       "      <td>1.250264</td>\n",
       "      <td>-0.599876</td>\n",
       "      <td>-0.388469</td>\n",
       "      <td>1.202815</td>\n",
       "      <td>-0.065834</td>\n",
       "      <td>0.349519</td>\n",
       "      <td>1</td>\n",
       "      <td>1</td>\n",
       "      <td>0</td>\n",
       "    </tr>\n",
       "    <tr>\n",
       "      <th>99998</th>\n",
       "      <td>0.815017</td>\n",
       "      <td>0.862864</td>\n",
       "      <td>-0.766708</td>\n",
       "      <td>-0.925690</td>\n",
       "      <td>0.569946</td>\n",
       "      <td>0.513858</td>\n",
       "      <td>-1.006962</td>\n",
       "      <td>6</td>\n",
       "      <td>1</td>\n",
       "      <td>0</td>\n",
       "    </tr>\n",
       "    <tr>\n",
       "      <th>99999</th>\n",
       "      <td>0.609983</td>\n",
       "      <td>0.669164</td>\n",
       "      <td>-0.446947</td>\n",
       "      <td>-0.254164</td>\n",
       "      <td>0.214879</td>\n",
       "      <td>-0.448741</td>\n",
       "      <td>-0.943328</td>\n",
       "      <td>7</td>\n",
       "      <td>5</td>\n",
       "      <td>0</td>\n",
       "    </tr>\n",
       "  </tbody>\n",
       "</table>\n",
       "<p>98047 rows × 10 columns</p>\n",
       "</div>"
      ],
      "text/plain": [
       "       crs_dep_timeFT  crs_arr_timeFT  crs_elapsed_timeFT  distanceFT  \\\n",
       "0            0.404950        0.475464           -0.252310   -0.371468   \n",
       "1           -1.030286       -1.074137           -0.808416   -0.651979   \n",
       "2           -0.825252        0.088064            0.706974    0.748875   \n",
       "3            0.609983        0.475464           -0.794514   -0.889988   \n",
       "4           -0.005118        0.088064           -0.474752   -0.597577   \n",
       "...               ...             ...                 ...         ...   \n",
       "99995        0.404950        0.281764           -0.808416   -0.704681   \n",
       "99996        1.635151       -2.817438           -0.224504   -0.087557   \n",
       "99997        1.020050        1.250264           -0.599876   -0.388469   \n",
       "99998        0.815017        0.862864           -0.766708   -0.925690   \n",
       "99999        0.609983        0.669164           -0.446947   -0.254164   \n",
       "\n",
       "       op_unique_carrier    origin      dest  month  dayWeek  xgbPred  \n",
       "0               0.538777  1.766642 -0.046907      4        0        0  \n",
       "1              -0.541576 -1.089924 -0.722955      7        6        0  \n",
       "2               0.484104 -1.104809 -0.330836      4        1        0  \n",
       "3               0.484104  0.018107  0.555854     11        2        0  \n",
       "4               0.210159 -0.329730  1.621178     10        5        0  \n",
       "...                  ...       ...       ...    ...      ...      ...  \n",
       "99995          -0.541576 -0.861272  0.260061      9        1        0  \n",
       "99996           0.448690  1.766642  3.889518     10        0        0  \n",
       "99997           1.202815 -0.065834  0.349519      1        1        0  \n",
       "99998           0.569946  0.513858 -1.006962      6        1        0  \n",
       "99999           0.214879 -0.448741 -0.943328      7        5        0  \n",
       "\n",
       "[98047 rows x 10 columns]"
      ]
     },
     "execution_count": 11,
     "metadata": {},
     "output_type": "execute_result"
    }
   ],
   "source": [
    "X_cat = addXGBClsfPred(X, y_cat, pred_only = False)\n",
    "X_cat"
   ]
  },
  {
   "cell_type": "code",
   "execution_count": 12,
   "metadata": {},
   "outputs": [],
   "source": [
    "X_cat.to_pickle('X_cat', compression = 'gzip')"
   ]
  }
 ],
 "metadata": {
  "kernelspec": {
   "display_name": "Python 3",
   "language": "python",
   "name": "python3"
  },
  "language_info": {
   "codemirror_mode": {
    "name": "ipython",
    "version": 3
   },
   "file_extension": ".py",
   "mimetype": "text/x-python",
   "name": "python",
   "nbconvert_exporter": "python",
   "pygments_lexer": "ipython3",
   "version": "3.7.6"
  }
 },
 "nbformat": 4,
 "nbformat_minor": 4
}
