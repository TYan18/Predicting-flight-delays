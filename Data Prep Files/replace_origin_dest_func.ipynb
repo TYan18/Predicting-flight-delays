{
 "cells": [
  {
   "cell_type": "code",
   "execution_count": 15,
   "metadata": {},
   "outputs": [],
   "source": [
    "import numpy as np\n",
    "import pandas as pd"
   ]
  },
  {
   "cell_type": "code",
   "execution_count": 40,
   "metadata": {},
   "outputs": [],
   "source": [
    "def replace_origin_dest(df):\n",
    "    # df: X features dataframe without one-hot encoding\n",
    "\n",
    "    # Find the average delay times by origin location, and store the values in a dictionary\n",
    "    origin = pd.read_csv('origin_arr_delay.txt', delimiter = '\\t', names = ['origin', 'avg_delay'])\n",
    "    origin = pd.Series(origin.avg_delay.values, index = origin.origin).to_dict()\n",
    "    \n",
    "    # Find the average delay times by destination location, and store the values in a dictionary\n",
    "    dest = pd.read_csv('dest_arr_delay.txt', delimiter = '\\t', names = ['dest', 'avg_delay'])\n",
    "    dest = pd.Series(dest.avg_delay.values, index = dest.dest).to_dict()\n",
    "    \n",
    "    # Replace the values in the \"origin\" and \"dest\" columns with the average arrival delay time\n",
    "    df['origin'] = df['origin'].replace(origin)\n",
    "    df['dest'] = df['dest'].replace(dest)\n",
    "    \n",
    "    return df"
   ]
  }
 ],
 "metadata": {
  "kernelspec": {
   "display_name": "Python 3",
   "language": "python",
   "name": "python3"
  },
  "language_info": {
   "codemirror_mode": {
    "name": "ipython",
    "version": 3
   },
   "file_extension": ".py",
   "mimetype": "text/x-python",
   "name": "python",
   "nbconvert_exporter": "python",
   "pygments_lexer": "ipython3",
   "version": "3.7.6"
  }
 },
 "nbformat": 4,
 "nbformat_minor": 4
}
